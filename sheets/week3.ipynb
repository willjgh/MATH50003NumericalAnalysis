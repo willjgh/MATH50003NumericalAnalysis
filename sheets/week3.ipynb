{
 "cells": [
  {
   "cell_type": "markdown",
   "metadata": {},
   "source": [
    "# MATH50003 Numerical Analysis: Problem 3\n",
    "\n",
    "This problem sheet explores implementation of triangular solves,\n",
    "supporting a matrix with two super-diagonals, as well as\n",
    "permutation and Householder reflections that can be applied to a vector in\n",
    "$O(n)$ complexity."
   ]
  },
  {
   "cell_type": "code",
   "execution_count": 119,
   "metadata": {
    "execution": {
     "iopub.execute_input": "2022-01-21T15:14:34.786524Z",
     "iopub.status.busy": "2022-01-21T15:14:34.340567Z",
     "iopub.status.idle": "2022-01-21T15:14:35.019587Z",
     "shell.execute_reply": "2022-01-21T15:14:35.019006Z"
    }
   },
   "outputs": [],
   "source": [
    "using LinearAlgebra, Test\n",
    "\n",
    "# We will override these functions below\n",
    "import Base: getindex, setindex!, size, *, \\"
   ]
  },
  {
   "cell_type": "markdown",
   "metadata": {},
   "source": [
    "## 1. Dense Matrices\n",
    "\n",
    "**Problem 1.1** Show that `A*x` is not\n",
    "implemented as `mul(A, x)` from the lecture notes\n",
    "by finding a `Float64` example  where the bits do not match.\n"
   ]
  },
  {
   "cell_type": "code",
   "execution_count": 120,
   "metadata": {},
   "outputs": [
    {
     "name": "stdout",
     "output_type": "stream",
     "text": [
      "\u001b[31m0\u001b[0m\u001b[32m01111111101\u001b[0m\u001b[34m0011001100110011001100110011001100110011001100110100\u001b[0m\n",
      "\u001b[31m0\u001b[0m\u001b[32m01111111101\u001b[0m\u001b[34m0011001100110011001100110011001100110011001100110100\u001b[0m\n",
      "\u001b[31m0\u001b[0m\u001b[32m01111111110\u001b[0m\u001b[34m0000000000000000000000000000000000000000000000000000\u001b[0m\n",
      "\u001b[31m0\u001b[0m\u001b[32m01111111110\u001b[0m\u001b[34m0000000000000000000000000000000000000000000000000000\u001b[0m\n"
     ]
    },
    {
     "data": {
      "text/plain": [
       "(true, true)"
      ]
     },
     "execution_count": 120,
     "metadata": {},
     "output_type": "execute_result"
    }
   ],
   "source": [
    "using ColorBitstring\n",
    "\n",
    "function mul(A, x) #column by column multiplication: x1*a1 + ... + xn*an, for xi elements of x, ai columns of A\n",
    "    m,n = size(A)\n",
    "    c = zeros(eltype(x), m) # eltype is the type of the elements of a vector/matrix\n",
    "    for j = 1:n, k = 1:m\n",
    "        c[k] += A[k, j] * x[j]\n",
    "    end\n",
    "    c\n",
    "end\n",
    "\n",
    "\n",
    "A = [1 1;\n",
    "     5 2^-52]\n",
    "x = [0.1,\n",
    "     0.2]\n",
    "\n",
    "A*x, mul(A,x)\n",
    "y = (A*x)[1]\n",
    "z = (mul(A,x))[1]\n",
    "w = (A*x)[2]\n",
    "v = (mul(A,x))[2]\n",
    "printlnbits(y) == printlnbits(z), printlnbits(w) == printlnbits(v)\n"
   ]
  },
  {
   "cell_type": "markdown",
   "metadata": {},
   "source": [
    "## 2. Triangular Matrices\n",
    "\n",
    "**Problem 2.1** Complete the following functions for solving linear systems with\n",
    "triangular systems by implementing back and forward-substitution:"
   ]
  },
  {
   "cell_type": "code",
   "execution_count": 121,
   "metadata": {
    "execution": {
     "iopub.execute_input": "2022-01-21T15:14:35.021752Z",
     "iopub.status.busy": "2022-01-21T15:14:35.021115Z",
     "iopub.status.idle": "2022-01-21T15:14:35.453273Z",
     "shell.execute_reply": "2022-01-21T15:14:35.452865Z"
    }
   },
   "outputs": [
    {
     "name": "stdout",
     "output_type": "stream",
     "text": [
      "a"
     ]
    },
    {
     "ename": "LoadError",
     "evalue": "BoundsError: attempt to access 2×2 Matrix{Int64} at index [1, 3]",
     "output_type": "error",
     "traceback": [
      "BoundsError: attempt to access 2×2 Matrix{Int64} at index [1, 3]",
      "",
      "Stacktrace:",
      " [1] getindex",
      "   @ .\\array.jl:862 [inlined]",
      " [2] getindex(A::UpperTriangular{Int64, Matrix{Int64}}, i::Int64, j::Int64)",
      "   @ LinearAlgebra C:\\Users\\willi\\AppData\\Local\\Programs\\Julia-1.7.1\\share\\julia\\stdlib\\v1.7\\LinearAlgebra\\src\\triangular.jl:226",
      " [3] ldiv(U::LowerTriangular{Int64, Matrix{Int64}}, b::Vector{Int64})",
      "   @ Main .\\In[121]:30",
      " [4] top-level scope",
      "   @ In[121]:45",
      " [5] eval",
      "   @ .\\boot.jl:373 [inlined]",
      " [6] include_string(mapexpr::typeof(REPL.softscope), mod::Module, code::String, filename::String)",
      "   @ Base .\\loading.jl:1196"
     ]
    }
   ],
   "source": [
    "function ldiv(U::UpperTriangular, b)\n",
    "    n = size(U,1)\n",
    "    \n",
    "    if length(b) != n\n",
    "        error(\"The system is not compatible\")\n",
    "    end\n",
    "        \n",
    "    x = zeros(n)  # the solution vector\n",
    "    ## TODO: populate x using back-substitution\n",
    "    for k = n:-1:1\n",
    "        for j = k+1:n\n",
    "            x[k] = x[k] - (A[k, j]*x[j])\n",
    "        end\n",
    "        x[k] = (x[k] + b[k])/A[k, k]\n",
    "    end\n",
    "    x\n",
    "end\n",
    "\n",
    "function ldiv(U::LowerTriangular, b)\n",
    "    n = size(U,1)\n",
    "    \n",
    "    if length(b) != n\n",
    "        error(\"The system is not compatible\")\n",
    "    end\n",
    "        \n",
    "    x = zeros(n)  # the solution vector\n",
    "    ## TODO: populate x using forward-substitution\n",
    "    for k = 1:n\n",
    "        for j = 1:k-1\n",
    "            x[k] = x[k] - (A[k, j]*x[j])\n",
    "            print(\"a\")\n",
    "        end\n",
    "        x[k] = (x[k] + b[k])/A[k, k]\n",
    "    end\n",
    "    x\n",
    "end\n",
    "\n",
    "A = UpperTriangular([1 1; 0 1])\n",
    "b = [1, 3]\n",
    "\n",
    "#ldiv(A,b) == A \\ b\n",
    "\n",
    "B = LowerTriangular([1 0 0; 2 3 0; 1 1 1])\n",
    "c = [1, 1, 1]\n",
    "ldiv(B,c)"
   ]
  },
  {
   "cell_type": "markdown",
   "metadata": {},
   "source": [
    "**Problem 2.2⋆** Given $𝐱 ∈ ℝ^n$, find a lower triangular matrix of the form\n",
    "$$\n",
    "L = I - 2 𝐯 𝐞_1^⊤\n",
    "$$\n",
    "such that:\n",
    "$$\n",
    "L 𝐱 = x_1 𝐞_1.\n",
    "$$\n",
    "What does $L𝐲$ equal if $𝐲  ∈ ℝ^n$ satisfies $y_1 = 𝐞_1^⊤ 𝐲 = 0$?\n",
    "\n",
    "## 3. Banded matrices\n",
    "\n",
    "**Problem 3.1** Complete the implementation of `UpperTridiagonal` which represents a banded matrix with\n",
    "bandwidths $(l,u) = (0,2)$:"
   ]
  },
  {
   "cell_type": "code",
   "execution_count": null,
   "metadata": {
    "execution": {
     "iopub.execute_input": "2022-01-21T15:14:35.455661Z",
     "iopub.status.busy": "2022-01-21T15:14:35.455040Z",
     "iopub.status.idle": "2022-01-21T15:14:35.552876Z",
     "shell.execute_reply": "2022-01-21T15:14:35.552441Z"
    }
   },
   "outputs": [],
   "source": [
    "struct UpperTridiagonal{T} <: AbstractMatrix{T}\n",
    "    d::Vector{T}   # diagonal entries\n",
    "    du::Vector{T}  # super-diagonal enries\n",
    "    du2::Vector{T} # second-super-diagonal entries\n",
    "end\n",
    "\n",
    "size(U::UpperTridiagonal) = (length(U.d),length(U.d))\n",
    "\n",
    "function getindex(U::UpperTridiagonal, k::Int, j::Int)\n",
    "    d,du,du2 = U.d,U.du,U.du2\n",
    "    # TODO: return U[k,j]\n",
    "end\n",
    "\n",
    "function setindex!(U::UpperTridiagonal, v, k::Int, j::Int)\n",
    "    d,du,du2 = U.d,U.du,U.du2\n",
    "    if j > k+2\n",
    "        error(\"Cannot modify off-band\")\n",
    "    end\n",
    "\n",
    "    # TODO: modify d,du,du2 so that U[k,j] == v\n",
    "\n",
    "    U # by convention we return the matrix\n",
    "end"
   ]
  },
  {
   "cell_type": "markdown",
   "metadata": {},
   "source": [
    "**Problem 3.2** Complete the following implementations of `*` and `\\` for `UpperTridiagonal` so that\n",
    "they take only $O(n)$ operations."
   ]
  },
  {
   "cell_type": "code",
   "execution_count": 4,
   "metadata": {
    "execution": {
     "iopub.execute_input": "2022-01-21T15:14:35.554903Z",
     "iopub.status.busy": "2022-01-21T15:14:35.554376Z",
     "iopub.status.idle": "2022-01-21T15:14:35.653168Z",
     "shell.execute_reply": "2022-01-21T15:14:35.652641Z"
    }
   },
   "outputs": [
    {
     "data": {
      "text/plain": [
       "\\ (generic function with 136 methods)"
      ]
     },
     "execution_count": 4,
     "metadata": {},
     "output_type": "execute_result"
    }
   ],
   "source": [
    "function *(U::UpperTridiagonal, x::AbstractVector)\n",
    "    T = promote_type(eltype(U), eltype(x)) # make a type that contains both the element type of U and x\n",
    "    b = zeros(T, size(U,1)) # returned vector\n",
    "    # TODO: populate b so that U*x == b (up to rounding)\n",
    "end\n",
    "\n",
    "function \\(U::UpperTridiagonal, b::AbstractVector)\n",
    "    T = promote_type(eltype(U), eltype(b)) # make a type that contains both the element type of U and b\n",
    "    x = zeros(T, size(U,2)) # returned vector\n",
    "    # TODO: populate x so that U*x == b (up to rounding)\n",
    "end"
   ]
  },
  {
   "cell_type": "markdown",
   "metadata": {},
   "source": [
    "## 4. Permutations\n",
    "\n",
    "**Problem 4.1⋆** What are the permutation matrices corresponding to the following permutations?\n",
    "$$\n",
    "\\begin{pmatrix}\n",
    "1 & 2 & 3 \\\\\n",
    "3 & 2 & 1\n",
    "\\end{pmatrix}, \\begin{pmatrix}\n",
    "1 & 2 & 3 & 4 & 5 & 6\\\\\n",
    "2 & 1 & 4 & 3 & 6 & 5\n",
    "\\end{pmatrix}.\n",
    "$$\n",
    "\n",
    "\n",
    "**Problem 4.2** Complete the implementation of a type representing\n",
    "permutation matrices that supports `P[k,j]` and such that `*` takes $O(n)$ operations."
   ]
  },
  {
   "cell_type": "code",
   "execution_count": 178,
   "metadata": {
    "execution": {
     "iopub.execute_input": "2022-01-21T15:14:35.655304Z",
     "iopub.status.busy": "2022-01-21T15:14:35.654771Z",
     "iopub.status.idle": "2022-01-21T15:14:36.608293Z",
     "shell.execute_reply": "2022-01-21T15:14:36.607825Z"
    }
   },
   "outputs": [
    {
     "data": {
      "text/plain": [
       "\u001b[32m\u001b[1mTest Passed\u001b[22m\u001b[39m\n",
       "  Expression: P == (I(5))[p, :]\n",
       "   Evaluated: [1 0 … 0 0; 0 0 … 1 0; … ; 0 0 … 0 1; 0 0 … 0 0] == sparse([1, 3, 5, 2, 4], [1, 2, 3, 4, 5], Bool[1, 1, 1, 1, 1], 5, 5)"
      ]
     },
     "execution_count": 178,
     "metadata": {},
     "output_type": "execute_result"
    }
   ],
   "source": [
    "struct PermutationMatrix <: AbstractMatrix{Int}\n",
    "    p::Vector{Int} # represents the permutation whose action is v[p]\n",
    "    function PermutationMatrix(p::Vector)\n",
    "        sort(p) == 1:length(p) || error(\"input is not a valid permutation\")\n",
    "        new(p)\n",
    "    end\n",
    "end\n",
    "\n",
    "size(P::PermutationMatrix) = (length(P.p),length(P.p))\n",
    "\n",
    "function getindex(P::PermutationMatrix, k::Int, j::Int)\n",
    "    # TODO: Return P[k,j]\n",
    "    #P[k,j] = ek' P ej = delta(sigma(k),j)\n",
    "    #sigma(k) = p[k]\n",
    "    #access p via P.p\n",
    "    P.p[k] == j ? 1 : 0 #return 1 if true, 0 if false\n",
    "\n",
    "end\n",
    "\n",
    "function *(P::PermutationMatrix, x::AbstractVector)\n",
    "    # TODO: permute the entries of x\n",
    "    # apply sigma to x: sigma = P.p, notation for sigma(x) = x[sigma]\n",
    "    x[P.p]\n",
    "end\n",
    "\n",
    "# If your code is correct, this \"unit test\" will succeed\n",
    "p = [1, 4, 2, 5, 3]\n",
    "P = PermutationMatrix(p)\n",
    "@test P == I(5)[p,:]"
   ]
  },
  {
   "cell_type": "markdown",
   "metadata": {},
   "source": [
    "## 5. Orthogonal matrices\n",
    "\n",
    "**Problem 5.1⋆** Show that orthogonal matrices preserve the 2-norm of vectors:\n",
    "$$\n",
    "\\|Q 𝐯\\| = \\|𝐯\\|.\n",
    "$$\n",
    "\n",
    "\n",
    "**Problem 5.2⋆** Show that the eigenvalues $λ$ of an orthogonal matrix $Q$ are\n",
    "on the unit circle: $|λ| = 1$.\n",
    "\n",
    "\n",
    "**Problem 5.3⋆** Explain why an orthogonal matrix $Q$ must be equal to $I$ if all its eigenvalues are 1.\n",
    "\n",
    "\n",
    "**Problem 5.4** Complete the implementation of a type representing\n",
    "reflections that supports `Q[k,j]` and such that `*` takes $O(n)$ operations."
   ]
  },
  {
   "cell_type": "code",
   "execution_count": 175,
   "metadata": {
    "execution": {
     "iopub.execute_input": "2022-01-21T15:14:36.610522Z",
     "iopub.status.busy": "2022-01-21T15:14:36.609942Z",
     "iopub.status.idle": "2022-01-21T15:14:38.094778Z",
     "shell.execute_reply": "2022-01-21T15:14:38.094388Z"
    }
   },
   "outputs": [
    {
     "data": {
      "text/plain": [
       "\u001b[32m\u001b[1mTest Passed\u001b[22m\u001b[39m\n",
       "  Expression: Q' * Q ≈ I\n",
       "   Evaluated: [0.9999999999999997 9.584347204771859e-17 … 4.198030811863873e-16 -4.163336342344337e-17; 9.584347204771859e-17 1.0 … -5.5294310796760726e-17 1.0408340855860843e-17; … ; 4.198030811863873e-16 -5.5294310796760726e-17 … 0.9999999999999998 5.551115123125783e-17; -4.163336342344337e-17 1.0408340855860843e-17 … 5.551115123125783e-17 1.0] ≈ UniformScaling{Bool}(true)"
      ]
     },
     "execution_count": 175,
     "metadata": {},
     "output_type": "execute_result"
    }
   ],
   "source": [
    "# Represents I - 2v*v'\n",
    "struct Reflection{T} <: AbstractMatrix{T}\n",
    "    v::Vector{T}\n",
    "end\n",
    "\n",
    "Reflection(x::Vector{T}) where T = Reflection{T}(x/norm(x))\n",
    "\n",
    "size(Q::Reflection) = (length(Q.v),length(Q.v))\n",
    "\n",
    "function getindex(Q::Reflection, k::Int, j::Int)\n",
    "    # TODO: Return Q[k,j]\n",
    "    #Q[k, j] = (I - 2vv')[k,j] = delta(k,j) - 2v[k]v[j]\n",
    "    (k==j) - 2*Q.v[k]*Q.v[j]\n",
    "end\n",
    "\n",
    "function *(P::Reflection, x::AbstractVector)\n",
    "    # TODO: permute the entries of x\n",
    "    #v = Q.v\n",
    "    x - 2*Q.v*((Q.v)'*x)\n",
    "end\n",
    "\n",
    "# If your code is correct, these \"unit tests\" will succeed\n",
    "x = randn(5)\n",
    "Q = Reflection(x)\n",
    "v = x/norm(x)\n",
    "#@test Q == I-2v*v'\n",
    "@test Q*v ≈ -v\n",
    "@test Q'Q ≈ I"
   ]
  },
  {
   "cell_type": "markdown",
   "metadata": {},
   "source": [
    "**Problem 5.5** Complete the following implementation of a Housholder reflection  so that the\n",
    "unit tests pass."
   ]
  },
  {
   "cell_type": "code",
   "execution_count": 177,
   "metadata": {
    "execution": {
     "iopub.execute_input": "2022-01-21T15:14:38.096777Z",
     "iopub.status.busy": "2022-01-21T15:14:38.096232Z",
     "iopub.status.idle": "2022-01-21T15:14:39.129435Z",
     "shell.execute_reply": "2022-01-21T15:14:39.129053Z"
    }
   },
   "outputs": [
    {
     "name": "stdout",
     "output_type": "stream",
     "text": [
      "[0.9059941314615766, 0.3322320669765102, 0.8200307868141675, -1.2610898627630094, -0.8270217688435534]"
     ]
    },
    {
     "data": {
      "text/plain": [
       "\u001b[32m\u001b[1mTest Passed\u001b[22m\u001b[39m\n",
       "  Expression: Q̃ * x ≈ -(norm(x)) * [1; zeros(length(x) - 1)]\n",
       "   Evaluated: [-1.9692553546958076, -4.163336342344337e-17, -6.938893903907228e-17, 2.498001805406602e-16, 1.7990533851307287e-16] ≈ [-1.9692553546958071, -0.0, -0.0, -0.0, -0.0]"
      ]
     },
     "execution_count": 177,
     "metadata": {},
     "output_type": "execute_result"
    }
   ],
   "source": [
    "function householderreflection(s::Bool, x::AbstractVector)\n",
    "    # TODO: implement Householder reflection, returning a Reflection\n",
    "    if s == false\n",
    "        y = norm(x)*[1; zeros(length(x)-1)] + x\n",
    "    else\n",
    "        y = -norm(x)*[1; zeros(length(x)-1)] + x\n",
    "    end\n",
    "    w = y/norm(y)\n",
    "    I - 2w*w'\n",
    "end\n",
    "\n",
    "x = randn(5)\n",
    "print(x)\n",
    "Q = householderreflection(true, x)\n",
    "#@test Q isa Reflection\n",
    "@test Q*x ≈ norm(x)*[1; zeros(length(x)-1)]\n",
    "\n",
    "Q̃ = householderreflection(false, x)\n",
    "#@test Q̃ isa Reflection\n",
    "@test Q̃*x ≈ -norm(x)*[1; zeros(length(x)-1)]"
   ]
  },
  {
   "cell_type": "code",
   "execution_count": 134,
   "metadata": {},
   "outputs": [
    {
     "data": {
      "text/plain": [
       "0"
      ]
     },
     "execution_count": 134,
     "metadata": {},
     "output_type": "execute_result"
    }
   ],
   "source": []
  },
  {
   "cell_type": "code",
   "execution_count": null,
   "metadata": {},
   "outputs": [],
   "source": []
  }
 ],
 "metadata": {
  "kernelspec": {
   "display_name": "Julia 1.7.1",
   "language": "julia",
   "name": "julia-1.7"
  },
  "language_info": {
   "file_extension": ".jl",
   "mimetype": "application/julia",
   "name": "julia",
   "version": "1.7.1"
  }
 },
 "nbformat": 4,
 "nbformat_minor": 2
}
