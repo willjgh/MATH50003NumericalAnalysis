{
 "cells": [
  {
   "cell_type": "markdown",
   "metadata": {},
   "source": [
    "# MATH50003 Numerical Analysis: Problem Sheet 2\n",
    "\n",
    "This week we look at other variants of finite-differences, including central differences and second-order\n",
    "finite-differences. We also investigate mathematical properties of dual numbers, extend their implementation to\n",
    "other functions. Finally, we see how dual numbers can be combined with Newton iteration for root finding.\n",
    "\n",
    "Questions marked with a ⋆ are meant to be completed without using a computer.\n",
    "\n",
    "## 1. Finite-differences\n",
    "\n",
    "**Problem 1.1⋆** Use Taylor's theorem to derive an error bound for central differences\n",
    "$$\n",
    "f'(x) ≈ {f(x + h) - f(x - h) \\over 2h}.\n",
    "$$\n",
    "Find an error bound when implemented in floating point arithmetic, assuming that\n",
    "$$\n",
    "f^{\\rm FP}(x) = f(x) + δ_x\n",
    "$$\n",
    "where $|δ_x| \\leq c ϵ_{\\rm m}$.\n",
    "\n",
    "**Problem 1.2** Implement central differences for $f(x) = 1 + x + x^2$ and $g(x) = 1 + x/3 + x^2$. \n",
    "Plot the errors for `h = 2.0 .^ (0:-1:-60)` and `h = 10.0 .^ (0:-1:-16)`. \n",
    "Derive the error exactly for the different cases to explain the observed behaviour.\n",
    "\n",
    "\n",
    "**Problem 1.3⋆** Use Taylor's theorem to derive an error bound on the second-order derivative approximation\n",
    "$$\n",
    "f''(x) ≈ {f(x+h) - 2f(x) + f(x-h) \\over h^2}\n",
    "$$\n",
    "Find an error bound when implemented in floating point arithmetic, assuming that\n",
    "$$\n",
    "f^{\\rm FP}(x) = f(x) + δ_x\n",
    "$$\n",
    "where $|δ_x| \\leq c ϵ_{\\rm m}$.\n",
    "\n",
    "**Problem 1.4** Use finite-differences, central differences, and second-order finite-differences to approximate to 5-digits the first and second \n",
    "derivatives to the following functions\n",
    "at the point $x = 0.1$:\n",
    "$$\n",
    "\\exp(\\exp x \\cos x + \\sin x), \\prod_{k=1}^{1000} \\left({x \\over k}-1\\right), \\hbox{ and } f^{\\rm s}_{1000}(x)\n",
    "$$\n",
    "where $f^{\\rm s}_n(x)$ corresponds to $n$-terms of the following continued fraction:\n",
    "$$\n",
    "1 + {x-1 \\over 2 + {x-1 \\over 2 + {x-1 \\over 2 + \\ddots}}},\n",
    "$$\n",
    "e.g.:\n",
    "$$\n",
    "\\begin{align*}\n",
    "f^{\\rm s}_1(x) &= 1 + {x-1 \\over 2} \\\\\n",
    "f^{\\rm s}_2(x) &= 1 + {x-1 \\over 2 + {x -1 \\over 2}} \\\\\n",
    "f^{\\rm s}_3(x) &= 1 + {x-1 \\over 2 + {x -1 \\over 2 + {x-1 \\over 2}}}\n",
    "\\end{align*}\n",
    "$$"
   ]
  },
  {
   "cell_type": "code",
   "execution_count": 11,
   "metadata": {},
   "outputs": [
    {
     "data": {
      "image/svg+xml": "<?xml version=\"1.0\" encoding=\"utf-8\"?>\n<svg xmlns=\"http://www.w3.org/2000/svg\" xmlns:xlink=\"http://www.w3.org/1999/xlink\" width=\"600\" height=\"400\" viewBox=\"0 0 2400 1600\">\n<defs>\n  <clipPath id=\"clip260\">\n    <rect x=\"0\" y=\"0\" width=\"2400\" height=\"1600\"/>\n  </clipPath>\n</defs>\n<path clip-path=\"url(#clip260)\" d=\"\nM0 1600 L2400 1600 L2400 0 L0 0  Z\n  \" fill=\"#ffffff\" fill-rule=\"evenodd\" fill-opacity=\"1\"/>\n<defs>\n  <clipPath id=\"clip261\">\n    <rect x=\"480\" y=\"0\" width=\"1681\" height=\"1600\"/>\n  </clipPath>\n</defs>\n<path clip-path=\"url(#clip260)\" d=\"\nM224.554 1486.45 L2352.76 1486.45 L2352.76 47.2441 L224.554 47.2441  Z\n  \" fill=\"#ffffff\" fill-rule=\"evenodd\" fill-opacity=\"1\"/>\n<defs>\n  <clipPath id=\"clip262\">\n    <rect x=\"224\" y=\"47\" width=\"2129\" height=\"1440\"/>\n  </clipPath>\n</defs>\n<polyline clip-path=\"url(#clip262)\" style=\"stroke:#000000; stroke-linecap:butt; stroke-linejoin:round; stroke-width:2; stroke-opacity:0.1; fill:none\" points=\"\n  251.323,1486.45 251.323,47.2441 \n  \"/>\n<polyline clip-path=\"url(#clip262)\" style=\"stroke:#000000; stroke-linecap:butt; stroke-linejoin:round; stroke-width:2; stroke-opacity:0.1; fill:none\" points=\"\n  585.946,1486.45 585.946,47.2441 \n  \"/>\n<polyline clip-path=\"url(#clip262)\" style=\"stroke:#000000; stroke-linecap:butt; stroke-linejoin:round; stroke-width:2; stroke-opacity:0.1; fill:none\" points=\"\n  920.569,1486.45 920.569,47.2441 \n  \"/>\n<polyline clip-path=\"url(#clip262)\" style=\"stroke:#000000; stroke-linecap:butt; stroke-linejoin:round; stroke-width:2; stroke-opacity:0.1; fill:none\" points=\"\n  1255.19,1486.45 1255.19,47.2441 \n  \"/>\n<polyline clip-path=\"url(#clip262)\" style=\"stroke:#000000; stroke-linecap:butt; stroke-linejoin:round; stroke-width:2; stroke-opacity:0.1; fill:none\" points=\"\n  1589.82,1486.45 1589.82,47.2441 \n  \"/>\n<polyline clip-path=\"url(#clip262)\" style=\"stroke:#000000; stroke-linecap:butt; stroke-linejoin:round; stroke-width:2; stroke-opacity:0.1; fill:none\" points=\"\n  1924.44,1486.45 1924.44,47.2441 \n  \"/>\n<polyline clip-path=\"url(#clip262)\" style=\"stroke:#000000; stroke-linecap:butt; stroke-linejoin:round; stroke-width:2; stroke-opacity:0.1; fill:none\" points=\"\n  2259.06,1486.45 2259.06,47.2441 \n  \"/>\n<polyline clip-path=\"url(#clip260)\" style=\"stroke:#000000; stroke-linecap:butt; stroke-linejoin:round; stroke-width:4; stroke-opacity:1; fill:none\" points=\"\n  224.554,1486.45 2352.76,1486.45 \n  \"/>\n<polyline clip-path=\"url(#clip260)\" style=\"stroke:#000000; stroke-linecap:butt; stroke-linejoin:round; stroke-width:4; stroke-opacity:1; fill:none\" points=\"\n  251.323,1486.45 251.323,1467.55 \n  \"/>\n<polyline clip-path=\"url(#clip260)\" style=\"stroke:#000000; stroke-linecap:butt; stroke-linejoin:round; stroke-width:4; stroke-opacity:1; fill:none\" points=\"\n  585.946,1486.45 585.946,1467.55 \n  \"/>\n<polyline clip-path=\"url(#clip260)\" style=\"stroke:#000000; stroke-linecap:butt; stroke-linejoin:round; stroke-width:4; stroke-opacity:1; fill:none\" points=\"\n  920.569,1486.45 920.569,1467.55 \n  \"/>\n<polyline clip-path=\"url(#clip260)\" style=\"stroke:#000000; stroke-linecap:butt; stroke-linejoin:round; stroke-width:4; stroke-opacity:1; fill:none\" points=\"\n  1255.19,1486.45 1255.19,1467.55 \n  \"/>\n<polyline clip-path=\"url(#clip260)\" style=\"stroke:#000000; stroke-linecap:butt; stroke-linejoin:round; stroke-width:4; stroke-opacity:1; fill:none\" points=\"\n  1589.82,1486.45 1589.82,1467.55 \n  \"/>\n<polyline clip-path=\"url(#clip260)\" style=\"stroke:#000000; stroke-linecap:butt; stroke-linejoin:round; stroke-width:4; stroke-opacity:1; fill:none\" points=\"\n  1924.44,1486.45 1924.44,1467.55 \n  \"/>\n<polyline clip-path=\"url(#clip260)\" style=\"stroke:#000000; stroke-linecap:butt; stroke-linejoin:round; stroke-width:4; stroke-opacity:1; fill:none\" points=\"\n  2259.06,1486.45 2259.06,1467.55 \n  \"/>\n<path clip-path=\"url(#clip260)\" d=\"M251.323 1517.37 Q247.712 1517.37 245.884 1520.93 Q244.078 1524.47 244.078 1531.6 Q244.078 1538.71 245.884 1542.27 Q247.712 1545.82 251.323 1545.82 Q254.958 1545.82 256.763 1542.27 Q258.592 1538.71 258.592 1531.6 Q258.592 1524.47 256.763 1520.93 Q254.958 1517.37 251.323 1517.37 M251.323 1513.66 Q257.134 1513.66 260.189 1518.27 Q263.268 1522.85 263.268 1531.6 Q263.268 1540.33 260.189 1544.94 Q257.134 1549.52 251.323 1549.52 Q245.513 1549.52 242.435 1544.94 Q239.379 1540.33 239.379 1531.6 Q239.379 1522.85 242.435 1518.27 Q245.513 1513.66 251.323 1513.66 Z\" fill=\"#000000\" fill-rule=\"evenodd\" fill-opacity=\"1\" /><path clip-path=\"url(#clip260)\" d=\"M560.634 1544.91 L568.273 1544.91 L568.273 1518.55 L559.963 1520.21 L559.963 1515.95 L568.227 1514.29 L572.903 1514.29 L572.903 1544.91 L580.541 1544.91 L580.541 1548.85 L560.634 1548.85 L560.634 1544.91 Z\" fill=\"#000000\" fill-rule=\"evenodd\" fill-opacity=\"1\" /><path clip-path=\"url(#clip260)\" d=\"M599.986 1517.37 Q596.375 1517.37 594.546 1520.93 Q592.74 1524.47 592.74 1531.6 Q592.74 1538.71 594.546 1542.27 Q596.375 1545.82 599.986 1545.82 Q603.62 1545.82 605.426 1542.27 Q607.254 1538.71 607.254 1531.6 Q607.254 1524.47 605.426 1520.93 Q603.62 1517.37 599.986 1517.37 M599.986 1513.66 Q605.796 1513.66 608.851 1518.27 Q611.93 1522.85 611.93 1531.6 Q611.93 1540.33 608.851 1544.94 Q605.796 1549.52 599.986 1549.52 Q594.176 1549.52 591.097 1544.94 Q588.041 1540.33 588.041 1531.6 Q588.041 1522.85 591.097 1518.27 Q594.176 1513.66 599.986 1513.66 Z\" fill=\"#000000\" fill-rule=\"evenodd\" fill-opacity=\"1\" /><path clip-path=\"url(#clip260)\" d=\"M899.343 1544.91 L915.662 1544.91 L915.662 1548.85 L893.718 1548.85 L893.718 1544.91 Q896.38 1542.16 900.963 1537.53 Q905.57 1532.88 906.75 1531.53 Q908.995 1529.01 909.875 1527.27 Q910.778 1525.51 910.778 1523.82 Q910.778 1521.07 908.833 1519.33 Q906.912 1517.6 903.81 1517.6 Q901.611 1517.6 899.158 1518.36 Q896.727 1519.13 893.949 1520.68 L893.949 1515.95 Q896.773 1514.82 899.227 1514.24 Q901.681 1513.66 903.718 1513.66 Q909.088 1513.66 912.282 1516.35 Q915.477 1519.03 915.477 1523.52 Q915.477 1525.65 914.667 1527.57 Q913.88 1529.47 911.773 1532.07 Q911.194 1532.74 908.093 1535.95 Q904.991 1539.15 899.343 1544.91 Z\" fill=\"#000000\" fill-rule=\"evenodd\" fill-opacity=\"1\" /><path clip-path=\"url(#clip260)\" d=\"M935.477 1517.37 Q931.866 1517.37 930.037 1520.93 Q928.231 1524.47 928.231 1531.6 Q928.231 1538.71 930.037 1542.27 Q931.866 1545.82 935.477 1545.82 Q939.111 1545.82 940.917 1542.27 Q942.745 1538.71 942.745 1531.6 Q942.745 1524.47 940.917 1520.93 Q939.111 1517.37 935.477 1517.37 M935.477 1513.66 Q941.287 1513.66 944.342 1518.27 Q947.421 1522.85 947.421 1531.6 Q947.421 1540.33 944.342 1544.94 Q941.287 1549.52 935.477 1549.52 Q929.667 1549.52 926.588 1544.94 Q923.532 1540.33 923.532 1531.6 Q923.532 1522.85 926.588 1518.27 Q929.667 1513.66 935.477 1513.66 Z\" fill=\"#000000\" fill-rule=\"evenodd\" fill-opacity=\"1\" /><path clip-path=\"url(#clip260)\" d=\"M1244.04 1530.21 Q1247.39 1530.93 1249.27 1533.2 Q1251.16 1535.47 1251.16 1538.8 Q1251.16 1543.92 1247.65 1546.72 Q1244.13 1549.52 1237.65 1549.52 Q1235.47 1549.52 1233.16 1549.08 Q1230.86 1548.66 1228.41 1547.81 L1228.41 1543.29 Q1230.35 1544.43 1232.67 1545.01 Q1234.98 1545.58 1237.51 1545.58 Q1241.91 1545.58 1244.2 1543.85 Q1246.51 1542.11 1246.51 1538.8 Q1246.51 1535.75 1244.36 1534.03 Q1242.23 1532.3 1238.41 1532.3 L1234.38 1532.3 L1234.38 1528.45 L1238.6 1528.45 Q1242.04 1528.45 1243.87 1527.09 Q1245.7 1525.7 1245.7 1523.11 Q1245.7 1520.45 1243.8 1519.03 Q1241.93 1517.6 1238.41 1517.6 Q1236.49 1517.6 1234.29 1518.01 Q1232.09 1518.43 1229.45 1519.31 L1229.45 1515.14 Q1232.11 1514.4 1234.43 1514.03 Q1236.77 1513.66 1238.83 1513.66 Q1244.15 1513.66 1247.25 1516.09 Q1250.35 1518.5 1250.35 1522.62 Q1250.35 1525.49 1248.71 1527.48 Q1247.07 1529.45 1244.04 1530.21 Z\" fill=\"#000000\" fill-rule=\"evenodd\" fill-opacity=\"1\" /><path clip-path=\"url(#clip260)\" d=\"M1270.03 1517.37 Q1266.42 1517.37 1264.59 1520.93 Q1262.79 1524.47 1262.79 1531.6 Q1262.79 1538.71 1264.59 1542.27 Q1266.42 1545.82 1270.03 1545.82 Q1273.66 1545.82 1275.47 1542.27 Q1277.3 1538.71 1277.3 1531.6 Q1277.3 1524.47 1275.47 1520.93 Q1273.66 1517.37 1270.03 1517.37 M1270.03 1513.66 Q1275.84 1513.66 1278.9 1518.27 Q1281.97 1522.85 1281.97 1531.6 Q1281.97 1540.33 1278.9 1544.94 Q1275.84 1549.52 1270.03 1549.52 Q1264.22 1549.52 1261.14 1544.94 Q1258.09 1540.33 1258.09 1531.6 Q1258.09 1522.85 1261.14 1518.27 Q1264.22 1513.66 1270.03 1513.66 Z\" fill=\"#000000\" fill-rule=\"evenodd\" fill-opacity=\"1\" /><path clip-path=\"url(#clip260)\" d=\"M1577.99 1518.36 L1566.18 1536.81 L1577.99 1536.81 L1577.99 1518.36 M1576.76 1514.29 L1582.64 1514.29 L1582.64 1536.81 L1587.57 1536.81 L1587.57 1540.7 L1582.64 1540.7 L1582.64 1548.85 L1577.99 1548.85 L1577.99 1540.7 L1562.39 1540.7 L1562.39 1536.19 L1576.76 1514.29 Z\" fill=\"#000000\" fill-rule=\"evenodd\" fill-opacity=\"1\" /><path clip-path=\"url(#clip260)\" d=\"M1605.3 1517.37 Q1601.69 1517.37 1599.86 1520.93 Q1598.06 1524.47 1598.06 1531.6 Q1598.06 1538.71 1599.86 1542.27 Q1601.69 1545.82 1605.3 1545.82 Q1608.94 1545.82 1610.74 1542.27 Q1612.57 1538.71 1612.57 1531.6 Q1612.57 1524.47 1610.74 1520.93 Q1608.94 1517.37 1605.3 1517.37 M1605.3 1513.66 Q1611.11 1513.66 1614.17 1518.27 Q1617.25 1522.85 1617.25 1531.6 Q1617.25 1540.33 1614.17 1544.94 Q1611.11 1549.52 1605.3 1549.52 Q1599.49 1549.52 1596.41 1544.94 Q1593.36 1540.33 1593.36 1531.6 Q1593.36 1522.85 1596.41 1518.27 Q1599.49 1513.66 1605.3 1513.66 Z\" fill=\"#000000\" fill-rule=\"evenodd\" fill-opacity=\"1\" /><path clip-path=\"url(#clip260)\" d=\"M1899.14 1514.29 L1917.49 1514.29 L1917.49 1518.22 L1903.42 1518.22 L1903.42 1526.7 Q1904.44 1526.35 1905.46 1526.19 Q1906.48 1526 1907.49 1526 Q1913.28 1526 1916.66 1529.17 Q1920.04 1532.34 1920.04 1537.76 Q1920.04 1543.34 1916.57 1546.44 Q1913.1 1549.52 1906.78 1549.52 Q1904.6 1549.52 1902.33 1549.15 Q1900.09 1548.78 1897.68 1548.04 L1897.68 1543.34 Q1899.76 1544.47 1901.98 1545.03 Q1904.21 1545.58 1906.68 1545.58 Q1910.69 1545.58 1913.03 1543.48 Q1915.36 1541.37 1915.36 1537.76 Q1915.36 1534.15 1913.03 1532.04 Q1910.69 1529.94 1906.68 1529.94 Q1904.81 1529.94 1902.93 1530.35 Q1901.08 1530.77 1899.14 1531.65 L1899.14 1514.29 Z\" fill=\"#000000\" fill-rule=\"evenodd\" fill-opacity=\"1\" /><path clip-path=\"url(#clip260)\" d=\"M1939.25 1517.37 Q1935.64 1517.37 1933.81 1520.93 Q1932.01 1524.47 1932.01 1531.6 Q1932.01 1538.71 1933.81 1542.27 Q1935.64 1545.82 1939.25 1545.82 Q1942.89 1545.82 1944.69 1542.27 Q1946.52 1538.71 1946.52 1531.6 Q1946.52 1524.47 1944.69 1520.93 Q1942.89 1517.37 1939.25 1517.37 M1939.25 1513.66 Q1945.06 1513.66 1948.12 1518.27 Q1951.2 1522.85 1951.2 1531.6 Q1951.2 1540.33 1948.12 1544.94 Q1945.06 1549.52 1939.25 1549.52 Q1933.44 1549.52 1930.36 1544.94 Q1927.31 1540.33 1927.31 1531.6 Q1927.31 1522.85 1930.36 1518.27 Q1933.44 1513.66 1939.25 1513.66 Z\" fill=\"#000000\" fill-rule=\"evenodd\" fill-opacity=\"1\" /><path clip-path=\"url(#clip260)\" d=\"M2244.47 1529.7 Q2241.32 1529.7 2239.47 1531.86 Q2237.64 1534.01 2237.64 1537.76 Q2237.64 1541.49 2239.47 1543.66 Q2241.32 1545.82 2244.47 1545.82 Q2247.61 1545.82 2249.44 1543.66 Q2251.3 1541.49 2251.3 1537.76 Q2251.3 1534.01 2249.44 1531.86 Q2247.61 1529.7 2244.47 1529.7 M2253.75 1515.05 L2253.75 1519.31 Q2251.99 1518.48 2250.18 1518.04 Q2248.4 1517.6 2246.64 1517.6 Q2242.01 1517.6 2239.56 1520.72 Q2237.13 1523.85 2236.78 1530.17 Q2238.15 1528.15 2240.21 1527.09 Q2242.27 1526 2244.74 1526 Q2249.95 1526 2252.96 1529.17 Q2255.99 1532.32 2255.99 1537.76 Q2255.99 1543.08 2252.85 1546.3 Q2249.7 1549.52 2244.47 1549.52 Q2238.47 1549.52 2235.3 1544.94 Q2232.13 1540.33 2232.13 1531.6 Q2232.13 1523.41 2236.02 1518.55 Q2239.91 1513.66 2246.46 1513.66 Q2248.22 1513.66 2250 1514.01 Q2251.8 1514.36 2253.75 1515.05 Z\" fill=\"#000000\" fill-rule=\"evenodd\" fill-opacity=\"1\" /><path clip-path=\"url(#clip260)\" d=\"M2274.05 1517.37 Q2270.44 1517.37 2268.61 1520.93 Q2266.8 1524.47 2266.8 1531.6 Q2266.8 1538.71 2268.61 1542.27 Q2270.44 1545.82 2274.05 1545.82 Q2277.68 1545.82 2279.49 1542.27 Q2281.32 1538.71 2281.32 1531.6 Q2281.32 1524.47 2279.49 1520.93 Q2277.68 1517.37 2274.05 1517.37 M2274.05 1513.66 Q2279.86 1513.66 2282.92 1518.27 Q2285.99 1522.85 2285.99 1531.6 Q2285.99 1540.33 2282.92 1544.94 Q2279.86 1549.52 2274.05 1549.52 Q2268.24 1549.52 2265.16 1544.94 Q2262.11 1540.33 2262.11 1531.6 Q2262.11 1522.85 2265.16 1518.27 Q2268.24 1513.66 2274.05 1513.66 Z\" fill=\"#000000\" fill-rule=\"evenodd\" fill-opacity=\"1\" /><polyline clip-path=\"url(#clip262)\" style=\"stroke:#000000; stroke-linecap:butt; stroke-linejoin:round; stroke-width:2; stroke-opacity:0.1; fill:none\" points=\"\n  224.554,990.039 2352.76,990.039 \n  \"/>\n<polyline clip-path=\"url(#clip262)\" style=\"stroke:#000000; stroke-linecap:butt; stroke-linejoin:round; stroke-width:2; stroke-opacity:0.1; fill:none\" points=\"\n  224.554,87.9763 2352.76,87.9763 \n  \"/>\n<polyline clip-path=\"url(#clip260)\" style=\"stroke:#000000; stroke-linecap:butt; stroke-linejoin:round; stroke-width:4; stroke-opacity:1; fill:none\" points=\"\n  224.554,1486.45 224.554,47.2441 \n  \"/>\n<polyline clip-path=\"url(#clip260)\" style=\"stroke:#000000; stroke-linecap:butt; stroke-linejoin:round; stroke-width:4; stroke-opacity:1; fill:none\" points=\"\n  224.554,990.039 243.451,990.039 \n  \"/>\n<polyline clip-path=\"url(#clip260)\" style=\"stroke:#000000; stroke-linecap:butt; stroke-linejoin:round; stroke-width:4; stroke-opacity:1; fill:none\" points=\"\n  224.554,87.9763 243.451,87.9763 \n  \"/>\n<path clip-path=\"url(#clip260)\" d=\"M51.6634 1009.83 L59.3023 1009.83 L59.3023 983.466 L50.9921 985.132 L50.9921 980.873 L59.256 979.206 L63.9319 979.206 L63.9319 1009.83 L71.5707 1009.83 L71.5707 1013.77 L51.6634 1013.77 L51.6634 1009.83 Z\" fill=\"#000000\" fill-rule=\"evenodd\" fill-opacity=\"1\" /><path clip-path=\"url(#clip260)\" d=\"M91.0151 982.285 Q87.404 982.285 85.5753 985.85 Q83.7697 989.392 83.7697 996.521 Q83.7697 1003.63 85.5753 1007.19 Q87.404 1010.73 91.0151 1010.73 Q94.6493 1010.73 96.4548 1007.19 Q98.2835 1003.63 98.2835 996.521 Q98.2835 989.392 96.4548 985.85 Q94.6493 982.285 91.0151 982.285 M91.0151 978.581 Q96.8252 978.581 99.8808 983.188 Q102.959 987.771 102.959 996.521 Q102.959 1005.25 99.8808 1009.85 Q96.8252 1014.44 91.0151 1014.44 Q85.2049 1014.44 82.1262 1009.85 Q79.0707 1005.25 79.0707 996.521 Q79.0707 987.771 82.1262 983.188 Q85.2049 978.581 91.0151 978.581 Z\" fill=\"#000000\" fill-rule=\"evenodd\" fill-opacity=\"1\" /><path clip-path=\"url(#clip260)\" d=\"M102.959 972.683 L127.071 972.683 L127.071 975.88 L102.959 975.88 L102.959 972.683 Z\" fill=\"#000000\" fill-rule=\"evenodd\" fill-opacity=\"1\" /><path clip-path=\"url(#clip260)\" d=\"M143.396 960.777 Q140.462 960.777 138.976 963.674 Q137.509 966.551 137.509 972.344 Q137.509 978.118 138.976 981.015 Q140.462 983.892 143.396 983.892 Q146.349 983.892 147.816 981.015 Q149.302 978.118 149.302 972.344 Q149.302 966.551 147.816 963.674 Q146.349 960.777 143.396 960.777 M143.396 957.768 Q148.117 957.768 150.6 961.511 Q153.101 965.235 153.101 972.344 Q153.101 979.435 150.6 983.178 Q148.117 986.901 143.396 986.901 Q138.675 986.901 136.174 983.178 Q133.691 979.435 133.691 972.344 Q133.691 965.235 136.174 961.511 Q138.675 957.768 143.396 957.768 Z\" fill=\"#000000\" fill-rule=\"evenodd\" fill-opacity=\"1\" /><path clip-path=\"url(#clip260)\" d=\"M159.778 981.579 L163.746 981.579 L163.746 986.356 L159.778 986.356 L159.778 981.579 Z\" fill=\"#000000\" fill-rule=\"evenodd\" fill-opacity=\"1\" /><path clip-path=\"url(#clip260)\" d=\"M175.294 983.159 L188.554 983.159 L188.554 986.356 L170.724 986.356 L170.724 983.159 Q172.887 980.921 176.611 977.159 Q180.353 973.379 181.313 972.288 Q183.137 970.238 183.852 968.827 Q184.585 967.398 184.585 966.025 Q184.585 963.787 183.005 962.376 Q181.444 960.966 178.924 960.966 Q177.137 960.966 175.144 961.586 Q173.169 962.207 170.912 963.467 L170.912 959.63 Q173.206 958.709 175.2 958.238 Q177.194 957.768 178.849 957.768 Q183.212 957.768 185.808 959.95 Q188.403 962.132 188.403 965.78 Q188.403 967.511 187.745 969.072 Q187.105 970.614 185.394 972.72 Q184.924 973.266 182.403 975.88 Q179.883 978.476 175.294 983.159 Z\" fill=\"#000000\" fill-rule=\"evenodd\" fill-opacity=\"1\" /><path clip-path=\"url(#clip260)\" d=\"M81.0976 107.769 L88.7364 107.769 L88.7364 81.4031 L80.4263 83.0698 L80.4263 78.8105 L88.6901 77.1439 L93.366 77.1439 L93.366 107.769 L101.005 107.769 L101.005 111.704 L81.0976 111.704 L81.0976 107.769 Z\" fill=\"#000000\" fill-rule=\"evenodd\" fill-opacity=\"1\" /><path clip-path=\"url(#clip260)\" d=\"M120.449 80.2226 Q116.838 80.2226 115.009 83.7874 Q113.204 87.329 113.204 94.4586 Q113.204 101.565 115.009 105.13 Q116.838 108.671 120.449 108.671 Q124.083 108.671 125.889 105.13 Q127.718 101.565 127.718 94.4586 Q127.718 87.329 125.889 83.7874 Q124.083 80.2226 120.449 80.2226 M120.449 76.5189 Q126.259 76.5189 129.315 81.1253 Q132.394 85.7086 132.394 94.4586 Q132.394 103.185 129.315 107.792 Q126.259 112.375 120.449 112.375 Q114.639 112.375 111.56 107.792 Q108.505 103.185 108.505 94.4586 Q108.505 85.7086 111.56 81.1253 Q114.639 76.5189 120.449 76.5189 Z\" fill=\"#000000\" fill-rule=\"evenodd\" fill-opacity=\"1\" /><path clip-path=\"url(#clip260)\" d=\"M142.098 58.7149 Q139.164 58.7149 137.679 61.6113 Q136.212 64.4889 136.212 70.2817 Q136.212 76.0557 137.679 78.9521 Q139.164 81.8297 142.098 81.8297 Q145.051 81.8297 146.518 78.9521 Q148.004 76.0557 148.004 70.2817 Q148.004 64.4889 146.518 61.6113 Q145.051 58.7149 142.098 58.7149 M142.098 55.7057 Q146.819 55.7057 149.302 59.4484 Q151.803 63.1724 151.803 70.2817 Q151.803 77.3722 149.302 81.115 Q146.819 84.8389 142.098 84.8389 Q137.378 84.8389 134.876 81.115 Q132.394 77.3722 132.394 70.2817 Q132.394 63.1724 134.876 59.4484 Q137.378 55.7057 142.098 55.7057 Z\" fill=\"#000000\" fill-rule=\"evenodd\" fill-opacity=\"1\" /><path clip-path=\"url(#clip260)\" d=\"M158.48 79.5163 L162.448 79.5163 L162.448 84.2935 L158.48 84.2935 L158.48 79.5163 Z\" fill=\"#000000\" fill-rule=\"evenodd\" fill-opacity=\"1\" /><path clip-path=\"url(#clip260)\" d=\"M178.849 58.7149 Q175.915 58.7149 174.429 61.6113 Q172.962 64.4889 172.962 70.2817 Q172.962 76.0557 174.429 78.9521 Q175.915 81.8297 178.849 81.8297 Q181.802 81.8297 183.269 78.9521 Q184.754 76.0557 184.754 70.2817 Q184.754 64.4889 183.269 61.6113 Q181.802 58.7149 178.849 58.7149 M178.849 55.7057 Q183.57 55.7057 186.052 59.4484 Q188.554 63.1724 188.554 70.2817 Q188.554 77.3722 186.052 81.115 Q183.57 84.8389 178.849 84.8389 Q174.128 84.8389 171.627 81.115 Q169.144 77.3722 169.144 70.2817 Q169.144 63.1724 171.627 59.4484 Q174.128 55.7057 178.849 55.7057 Z\" fill=\"#000000\" fill-rule=\"evenodd\" fill-opacity=\"1\" /><polyline clip-path=\"url(#clip262)\" style=\"stroke:#009af9; stroke-linecap:butt; stroke-linejoin:round; stroke-width:4; stroke-opacity:1; fill:none\" points=\"\n  2058.29,1445.72 2091.75,87.9763 2125.21,87.9763 2158.67,87.9763 2192.14,87.9763 2225.6,87.9763 2259.06,87.9763 2292.52,87.9763 \n  \"/>\n<path clip-path=\"url(#clip260)\" d=\"\nM2028.84 198.898 L2281.82 198.898 L2281.82 95.2176 L2028.84 95.2176  Z\n  \" fill=\"#ffffff\" fill-rule=\"evenodd\" fill-opacity=\"1\"/>\n<polyline clip-path=\"url(#clip260)\" style=\"stroke:#000000; stroke-linecap:butt; stroke-linejoin:round; stroke-width:4; stroke-opacity:1; fill:none\" points=\"\n  2028.84,198.898 2281.82,198.898 2281.82,95.2176 2028.84,95.2176 2028.84,198.898 \n  \"/>\n<polyline clip-path=\"url(#clip260)\" style=\"stroke:#009af9; stroke-linecap:butt; stroke-linejoin:round; stroke-width:4; stroke-opacity:1; fill:none\" points=\"\n  2052.49,147.058 2194.37,147.058 \n  \"/>\n<path clip-path=\"url(#clip260)\" d=\"M2234.52 128.319 L2234.52 131.861 L2230.45 131.861 Q2228.16 131.861 2227.25 132.787 Q2226.37 133.713 2226.37 136.12 L2226.37 138.412 L2233.39 138.412 L2233.39 141.722 L2226.37 141.722 L2226.37 164.338 L2222.09 164.338 L2222.09 141.722 L2218.02 141.722 L2218.02 138.412 L2222.09 138.412 L2222.09 136.606 Q2222.09 132.278 2224.11 130.31 Q2226.12 128.319 2230.49 128.319 L2234.52 128.319 Z\" fill=\"#000000\" fill-rule=\"evenodd\" fill-opacity=\"1\" /></svg>\n"
     },
     "execution_count": 11,
     "metadata": {},
     "output_type": "execute_result"
    }
   ],
   "source": [
    "using Plots\n",
    "f = x -> 1 + x + x^2\n",
    "g = x -> 1 + x/3 + x^2\n",
    "h = 2.0 .^ (0:-1:-60)\n",
    "#h = 10.0 .^ (0:-1:-16)\n",
    "nanabs = x -> iszero(x) ? NaN : abs(x)\n",
    "plot(nanabs.((f.(h) .- f.(-h)) ./ 2h .- 1); yscale=:log10, label = \"f\")\n",
    "#plot!(nanabs.((g.(h) .- g.(-h)) ./ 2h .- 1/3); yscale=:log10, label = \"g\")"
   ]
  },
  {
   "cell_type": "code",
   "execution_count": 17,
   "metadata": {},
   "outputs": [
    {
     "data": {
      "text/plain": [
       "1.5811387114226818"
      ]
     },
     "execution_count": 17,
     "metadata": {},
     "output_type": "execute_result"
    }
   ],
   "source": [
    "function a1(x)\n",
    "    exp(exp(x)cos(x)+sin(x))\n",
    "end\n",
    "\n",
    "function a2(x)\n",
    "    ret = x - 1\n",
    "    for k = 2:1000\n",
    "        ret = ret*(x/k - 1)\n",
    "    end\n",
    "    ret\n",
    "end\n",
    "\n",
    "function a3(x,s=1000)\n",
    "    if s == 1\n",
    "        1 + (x - 1)/2\n",
    "    else\n",
    "        1 + (x - 1)/(1 + a3(x,s-1))\n",
    "    end\n",
    "end\n",
    "\n",
    "function finite_diff(f,x,h)\n",
    "    (f(x+h) - f(x))/h\n",
    "end\n",
    "\n",
    "function central_diff(f,x,h)\n",
    "    (f(x+h) - f(x-h))/2*h\n",
    "end\n",
    "\n",
    "function finite_diff_2(f,x,h)\n",
    "    (f(x+h) - 2*f(x) + f(x-h))/h^2\n",
    "end\n",
    "\n",
    "finite_diff(a1,0.1,2^-25) #accurate to 5d.p. to Dual calculation\n",
    "finite_diff(a2,0.1,2^-25) #accurate to 5d.p. to Dual calculation\n",
    "finite_diff(a3,0.1,2^-25)\n"
   ]
  },
  {
   "cell_type": "markdown",
   "metadata": {},
   "source": [
    "## 2. Dual numbers\n",
    "\n",
    "**Problem 2.1⋆** \n",
    "Show that dual numbers $𝔻$ are a _commutative ring_, that is, for all $a,b,c ∈ 𝔻$ the following are satisfied:\n",
    "1. _additive associativity_: $(a + b) + c = a + (b + c)$\n",
    "2. _additive commutativity_: $a + b = b + a$\n",
    "3. _additive identity_: There exists $0 ∈ 𝔻$ such that $a + 0 = a$.\n",
    "4. _additive inverse_: There exists $-a$ such that $(-a) + a = 0$.\n",
    "5. _multiplicative associativity_: $(ab)c = a(bc)$\n",
    "6. _multiplictive commutativity_: $ab = ba$\n",
    "7. _multiplictive identity_: There exists $1 ∈ 𝔻$ such that $1a= a$.\n",
    "8. _distributive_: $a(b+c) = ab + ac$\n",
    "\n",
    "**Problem 2.2⋆** A _field_ is a commutative ring such that $0 ≠ 1$ and all nonzero elements have a multiplicative inverse, i.e.,\n",
    "there exists $a^{-1}$ such that $a a^{-1} = 1$. Why isn't $𝔻$ a field?\n",
    "\n",
    "**Problem 2.3⋆** A _matrix representation_ of a ring are maps from a group/ring to matrices such that matrix addition and multiplication\n",
    "behave exactly like addition and multiplication that of the ring. \n",
    "That is, if $A$ and $B$ are elements of the ring and $ρ$ is a representation, then\n",
    "$$\n",
    "ρ(A + B) = ρ(A) + ρ(B) \\hbox{ and } ρ(AB) = ρ(A)ρ(B).\n",
    "$$\n",
    "Show that the following are matrix representations of complex numbers and\n",
    "dual numbers (respectively):\n",
    "$$\n",
    "\\begin{align*}\n",
    "a + b {\\rm i} &\\mapsto \\begin{pmatrix} a & b \\\\ -b & a \\end{pmatrix} \\\\\n",
    "a + b {\\rm i} &\\mapsto \\begin{pmatrix} a & b \\\\ 0 & a \\end{pmatrix}\n",
    "\\end{align*}\n",
    "$$\n",
    "\n",
    "\n",
    "**Problem 2.4⋆** What is the correct definition of division on dual numbers, i.e.,\n",
    "$$\n",
    "(a + b \\epsilon )/(c + d \\epsilon ) = s + t \\epsilon\n",
    "$$\n",
    "for what choice of $s$ and $t$? Use dual numbers to compute the derivative of the following functions at $x = 0.1$:\n",
    "$$\n",
    "\\exp(\\exp x \\cos x + \\sin x), \\prod_{k=1}^3 \\left({x \\over k}-1\\right),\\hbox{ and } f^{\\rm s}_2(x) = {1 + {x - 1 \\over 2 + {x-1 \\over 2}}}\n",
    "$$\n",
    "\n",
    "\n",
    "**Problem 2.5** Add support for `cos`, `sin`, and `/` to the type `Dual`:"
   ]
  },
  {
   "cell_type": "code",
   "execution_count": 14,
   "metadata": {
    "execution": {
     "iopub.execute_input": "2022-01-19T20:07:29.272650Z",
     "iopub.status.busy": "2022-01-19T20:07:29.272069Z",
     "iopub.status.idle": "2022-01-19T20:07:29.578514Z",
     "shell.execute_reply": "2022-01-19T20:07:29.577878Z"
    }
   },
   "outputs": [
    {
     "data": {
      "text/plain": [
       "/ (generic function with 136 methods)"
      ]
     },
     "execution_count": 14,
     "metadata": {},
     "output_type": "execute_result"
    }
   ],
   "source": [
    "# Dual(a,b) represents a + b*ϵ\n",
    "struct Dual{T}\n",
    "    a::T\n",
    "    b::T\n",
    "end\n",
    "\n",
    "# Dual(a) represents a + 0*ϵ\n",
    "Dual(a::Real) = Dual(a, zero(a)) # for real numbers we use a + 0ϵ\n",
    "\n",
    "# Allow for a + b*ϵ syntax\n",
    "const ϵ = Dual(0, 1)\n",
    "\n",
    "import Base: +, *, -, /, ^, zero, exp, cos, sin\n",
    "\n",
    "# support polynomials like 1 + x, x - 1, 2x or x*2 by reducing to Dual\n",
    "+(x::Real, y::Dual) = Dual(x) + y\n",
    "+(x::Dual, y::Real) = x + Dual(y)\n",
    "-(x::Real, y::Dual) = Dual(x) - y\n",
    "-(x::Dual, y::Real) = x - Dual(y)\n",
    "*(x::Real, y::Dual) = Dual(x) * y\n",
    "*(x::Dual, y::Real) = x * Dual(y)\n",
    "\n",
    "# support x/2 (but not yet division of duals)\n",
    "/(x::Dual, k::Real) = Dual(x.a/k, x.b/k)\n",
    "\n",
    "# a simple recursive function to support x^2, x^3, etc.\n",
    "function ^(x::Dual, k::Integer)\n",
    "    if k < 0\n",
    "        error(\"Not implemented\")\n",
    "    elseif k == 1\n",
    "        x\n",
    "    else\n",
    "        x^(k-1) * x\n",
    "    end\n",
    "end\n",
    "\n",
    "# Algebraic operationds for duals\n",
    "-(x::Dual) = Dual(-x.a, -x.b)\n",
    "+(x::Dual, y::Dual) = Dual(x.a + y.a, x.b + y.b)\n",
    "-(x::Dual, y::Dual) = Dual(x.a - y.a, x.b - y.b)\n",
    "*(x::Dual, y::Dual) = Dual(x.a*y.a, x.a*y.b + x.b*y.a)\n",
    "\n",
    "exp(x::Dual) = Dual(exp(x.a), exp(x.a) * x.b)\n",
    "\n",
    "function cos(x::Dual)\n",
    "    # TODO: implement cos for Duals\n",
    "    Dual(cos(x.a), -x.b*sin(x.a))\n",
    "end\n",
    "\n",
    "function sin(x::Dual)\n",
    "    # TODO: implement sin for Duals\n",
    "    Dual(sin(x.a), x.b*cos(x.a))\n",
    "end\n",
    "\n",
    "function /(x::Dual, y::Dual)\n",
    "    # TODO: implement division for Duals\n",
    "    Dual(x.a/y.a, 1/x.a^2 * (x.b*y.a - x.a*y.b))\n",
    "end"
   ]
  },
  {
   "cell_type": "markdown",
   "metadata": {},
   "source": [
    "**Problem 2.6** Use dual numbers to compute the derivatives to\n",
    "$$\n",
    "\\exp(\\exp x \\cos x + \\sin x), \\prod_{k=1}^{1000} \\left({x \\over k}-1\\right), \\hbox{ and } f^{\\rm s}_{1000}(x).\n",
    "$$\n",
    "Does your answer match (to 5 digits) Problem 1.4?"
   ]
  },
  {
   "cell_type": "code",
   "execution_count": 18,
   "metadata": {},
   "outputs": [
    {
     "name": "stdout",
     "output_type": "stream",
     "text": [
      "Dual{Float64}(3.3184011429340323, 6.5847725546108276)\n",
      "Dual{Float64}(0.4689792466949583, -3.593826513101571)\n",
      "Dual{Float64}(0.316227766016838, 8.017049285053784e46)\n"
     ]
    }
   ],
   "source": [
    "function f1(x::Dual)\n",
    "    exp(exp(x)cos(x)+sin(x))\n",
    "end\n",
    "\n",
    "println(f1(Dual(1/10,1.0)))\n",
    "\n",
    "function f2(x::Dual)\n",
    "    ret = x - 1\n",
    "    for k = 2:1000\n",
    "        ret = ret*(x/k - 1)\n",
    "    end\n",
    "    ret\n",
    "end\n",
    "\n",
    "println(f2(Dual(1/10,1.0)))\n",
    "\n",
    "function f3(x::Dual,s::Real)\n",
    "    if s == 1\n",
    "        1 + (x - 1)/2\n",
    "    else\n",
    "        1 + (x - 1)/(1 + f3(x,s-1))\n",
    "    end\n",
    "end\n",
    "\n",
    "println(f3(Dual(1/10,1.0),1000))"
   ]
  },
  {
   "cell_type": "markdown",
   "metadata": {},
   "source": [
    "## 3. Newton iteration\n",
    "\n",
    "Newton iteration is an algorithm for computed roots of a function $f$ using its derivative: given an initial guess $x_0$, one\n",
    "obtains a sequence of guesses via\n",
    "$$\n",
    "x_{k+1} = x_k - {f(x_k) \\over f'(x_k)}\n",
    "$$\n",
    "\n",
    "**Problem 3.1** Use `Dual` to implement the following function which returns $x_n$:"
   ]
  },
  {
   "cell_type": "code",
   "execution_count": 20,
   "metadata": {
    "execution": {
     "iopub.execute_input": "2022-01-19T20:07:29.580681Z",
     "iopub.status.busy": "2022-01-19T20:07:29.580114Z",
     "iopub.status.idle": "2022-01-19T20:07:29.686903Z",
     "shell.execute_reply": "2022-01-19T20:07:29.686205Z"
    }
   },
   "outputs": [
    {
     "data": {
      "text/plain": [
       "1.0"
      ]
     },
     "execution_count": 20,
     "metadata": {},
     "output_type": "execute_result"
    }
   ],
   "source": [
    "function newton(f, x0, n)\n",
    "    ## TODO: compute x_n \n",
    "    x = Dual(Float64(x0),1.0)\n",
    "    for i = 1:n\n",
    "        x = Dual(x.a - f(x).a / f(x).b, 1.0)\n",
    "    end\n",
    "    x.a\n",
    "end\n",
    "\n",
    "function testing(x::Dual)\n",
    "    x - 1\n",
    "end\n",
    "\n",
    "newton(testing,0,10)"
   ]
  },
  {
   "cell_type": "markdown",
   "metadata": {},
   "source": [
    "**Problem 3.2** Compute points $y$ such that $|f(y)| \\leq 10^{-13}$ (i.e., approximate roots):\n",
    "$$\n",
    "\\exp(\\exp x \\cos x + \\sin x)-6\\hbox{ and } \\prod_{k=1}^{1000} \\left({x \\over k}-1\\right) - {1 \\over 2}\n",
    "$$\n",
    "(Hint: you may need to try different `x0` and `n` to get convergence. Plotting the function should give an\n",
    "indication of a good initial guess.)\n",
    "\n",
    "**Problem 3.3** Compute points $y$ such that $|f^{\\rm s}_{1000}(y) - j| \\leq 10^{-13}$ for $j = 1,2,3$. \n",
    "Make a conjecture of what $f^{\\rm s}_n(x)$ converges to as $n → ∞$. (Bonus problem: Prove your conjecture.)"
   ]
  },
  {
   "cell_type": "code",
   "execution_count": 21,
   "metadata": {},
   "outputs": [
    {
     "data": {
      "text/plain": [
       "4.577836988737406"
      ]
     },
     "execution_count": 21,
     "metadata": {},
     "output_type": "execute_result"
    }
   ],
   "source": [
    "f = x -> exp(exp(x)cos(x)+sin(x)) - 6\n",
    "plot(f)\n",
    "\n",
    "function approx(f,x0)\n",
    "    y = x0\n",
    "    while abs(f(y)) > 10^-13\n",
    "        y = newton(f,y,10)\n",
    "    end\n",
    "    y\n",
    "end\n",
    "\n",
    "y = newton(f,1,12)\n",
    "abs(f(y))"
   ]
  },
  {
   "cell_type": "code",
   "execution_count": 22,
   "metadata": {},
   "outputs": [
    {
     "data": {
      "text/plain": [
       "0.6303767326657339"
      ]
     },
     "execution_count": 22,
     "metadata": {},
     "output_type": "execute_result"
    }
   ],
   "source": [
    "function g2(x::Dual)\n",
    "    ret = x - 1\n",
    "    for k =2:1000\n",
    "        ret = ret*(x/k -1)\n",
    "    end\n",
    "    ret - 1/2\n",
    "end\n",
    "\n",
    "y = newton(x -> g2(x) + 1, 0.1, 1)\n",
    "abs(y - 1)\n"
   ]
  },
  {
   "cell_type": "code",
   "execution_count": null,
   "metadata": {},
   "outputs": [],
   "source": []
  }
 ],
 "metadata": {
  "kernelspec": {
   "display_name": "Julia 1.7.1",
   "language": "julia",
   "name": "julia-1.7"
  },
  "language_info": {
   "file_extension": ".jl",
   "mimetype": "application/julia",
   "name": "julia",
   "version": "1.7.1"
  }
 },
 "nbformat": 4,
 "nbformat_minor": 2
}
