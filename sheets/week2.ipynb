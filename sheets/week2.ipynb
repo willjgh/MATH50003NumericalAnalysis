{
 "cells": [
  {
   "cell_type": "markdown",
   "metadata": {},
   "source": [
    "# MATH50003 Numerical Analysis: Problem Sheet 2\n",
    "\n",
    "This week we look at other variants of finite-differences, including central differences and second-order\n",
    "finite-differences. We also investigate mathematical properties of dual numbers, extend their implementation to\n",
    "other functions. Finally, we see how dual numbers can be combined with Newton iteration for root finding.\n",
    "\n",
    "Questions marked with a ⋆ are meant to be completed without using a computer.\n",
    "\n",
    "## 1. Finite-differences\n",
    "\n",
    "**Problem 1.1⋆** Use Taylor's theorem to derive an error bound for central differences\n",
    "$$\n",
    "f'(x) ≈ {f(x + h) - f(x - h) \\over 2h}.\n",
    "$$\n",
    "Find an error bound when implemented in floating point arithmetic, assuming that\n",
    "$$\n",
    "f^{\\rm FP}(x) = f(x) + δ_x\n",
    "$$\n",
    "where $|δ_x| \\leq c ϵ_{\\rm m}$.\n",
    "\n",
    "**Problem 1.2** Implement central differences for $f(x) = 1 + x + x^2$ and $g(x) = 1 + x/3 + x^2$. \n",
    "Plot the errors for `h = 2.0 .^ (0:-1:-60)` and `h = 10.0 .^ (0:-1:-16)`. \n",
    "Derive the error exactly for the different cases to explain the observed behaviour.\n",
    "\n",
    "\n",
    "**Problem 1.3⋆** Use Taylor's theorem to derive an error bound on the second-order derivative approximation\n",
    "$$\n",
    "f''(x) ≈ {f(x+h) - 2f(x) + f(x-h) \\over h^2}\n",
    "$$\n",
    "Find an error bound when implemented in floating point arithmetic, assuming that\n",
    "$$\n",
    "f^{\\rm FP}(x) = f(x) + δ_x\n",
    "$$\n",
    "where $|δ_x| \\leq c ϵ_{\\rm m}$.\n",
    "\n",
    "**Problem 1.4** Use finite-differences, central differences, and second-order finite-differences to approximate to 5-digits the first and second \n",
    "derivatives to the following functions\n",
    "at the point $x = 0.1$:\n",
    "$$\n",
    "\\exp(\\exp x \\cos x + \\sin x), \\prod_{k=1}^{1000} \\left({x \\over k}-1\\right), \\hbox{ and } f^{\\rm s}_{1000}(x)\n",
    "$$\n",
    "where $f^{\\rm s}_n(x)$ corresponds to $n$-terms of the following continued fraction:\n",
    "$$\n",
    "1 + {x-1 \\over 2 + {x-1 \\over 2 + {x-1 \\over 2 + \\ddots}}},\n",
    "$$\n",
    "e.g.:\n",
    "$$\n",
    "\\begin{align*}\n",
    "f^{\\rm s}_1(x) &= 1 + {x-1 \\over 2} \\\\\n",
    "f^{\\rm s}_2(x) &= 1 + {x-1 \\over 2 + {x -1 \\over 2}} \\\\\n",
    "f^{\\rm s}_3(x) &= 1 + {x-1 \\over 2 + {x -1 \\over 2 + {x-1 \\over 2}}}\n",
    "\\end{align*}\n",
    "$$"
   ]
  },
  {
   "cell_type": "code",
   "execution_count": 13,
   "metadata": {},
   "outputs": [
    {
     "data": {
      "image/svg+xml": "<?xml version=\"1.0\" encoding=\"utf-8\"?>\n<svg xmlns=\"http://www.w3.org/2000/svg\" xmlns:xlink=\"http://www.w3.org/1999/xlink\" width=\"600\" height=\"400\" viewBox=\"0 0 2400 1600\">\n<defs>\n  <clipPath id=\"clip930\">\n    <rect x=\"0\" y=\"0\" width=\"2400\" height=\"1600\"/>\n  </clipPath>\n</defs>\n<path clip-path=\"url(#clip930)\" d=\"\nM0 1600 L2400 1600 L2400 0 L0 0  Z\n  \" fill=\"#ffffff\" fill-rule=\"evenodd\" fill-opacity=\"1\"/>\n<defs>\n  <clipPath id=\"clip931\">\n    <rect x=\"480\" y=\"0\" width=\"1681\" height=\"1600\"/>\n  </clipPath>\n</defs>\n<path clip-path=\"url(#clip930)\" d=\"\nM224.554 1474.16 L2352.76 1474.16 L2352.76 47.2441 L224.554 47.2441  Z\n  \" fill=\"#ffffff\" fill-rule=\"evenodd\" fill-opacity=\"1\"/>\n<defs>\n  <clipPath id=\"clip932\">\n    <rect x=\"224\" y=\"47\" width=\"2129\" height=\"1428\"/>\n  </clipPath>\n</defs>\n<polyline clip-path=\"url(#clip932)\" style=\"stroke:#000000; stroke-linecap:butt; stroke-linejoin:round; stroke-width:2; stroke-opacity:0.1; fill:none\" points=\"\n  1180.93,1474.16 1180.93,47.2441 \n  \"/>\n<polyline clip-path=\"url(#clip932)\" style=\"stroke:#000000; stroke-linecap:butt; stroke-linejoin:round; stroke-width:2; stroke-opacity:0.1; fill:none\" points=\"\n  2292.52,1474.16 2292.52,47.2441 \n  \"/>\n<polyline clip-path=\"url(#clip930)\" style=\"stroke:#000000; stroke-linecap:butt; stroke-linejoin:round; stroke-width:4; stroke-opacity:1; fill:none\" points=\"\n  224.554,1474.16 2352.76,1474.16 \n  \"/>\n<polyline clip-path=\"url(#clip930)\" style=\"stroke:#000000; stroke-linecap:butt; stroke-linejoin:round; stroke-width:4; stroke-opacity:1; fill:none\" points=\"\n  1180.93,1474.16 1180.93,1455.27 \n  \"/>\n<polyline clip-path=\"url(#clip930)\" style=\"stroke:#000000; stroke-linecap:butt; stroke-linejoin:round; stroke-width:4; stroke-opacity:1; fill:none\" points=\"\n  2292.52,1474.16 2292.52,1455.27 \n  \"/>\n<path clip-path=\"url(#clip930)\" d=\"M1118.29 1548.29 L1125.93 1548.29 L1125.93 1521.92 L1117.62 1523.59 L1117.62 1519.33 L1125.89 1517.66 L1130.56 1517.66 L1130.56 1548.29 L1138.2 1548.29 L1138.2 1552.22 L1118.29 1552.22 L1118.29 1548.29 Z\" fill=\"#000000\" fill-rule=\"evenodd\" fill-opacity=\"1\" /><path clip-path=\"url(#clip930)\" d=\"M1157.65 1520.74 Q1154.03 1520.74 1152.21 1524.31 Q1150.4 1527.85 1150.4 1534.98 Q1150.4 1542.09 1152.21 1545.65 Q1154.03 1549.19 1157.65 1549.19 Q1161.28 1549.19 1163.09 1545.65 Q1164.91 1542.09 1164.91 1534.98 Q1164.91 1527.85 1163.09 1524.31 Q1161.28 1520.74 1157.65 1520.74 M1157.65 1517.04 Q1163.46 1517.04 1166.51 1521.65 Q1169.59 1526.23 1169.59 1534.98 Q1169.59 1543.71 1166.51 1548.31 Q1163.46 1552.9 1157.65 1552.9 Q1151.84 1552.9 1148.76 1548.31 Q1145.7 1543.71 1145.7 1534.98 Q1145.7 1526.23 1148.76 1521.65 Q1151.84 1517.04 1157.65 1517.04 Z\" fill=\"#000000\" fill-rule=\"evenodd\" fill-opacity=\"1\" /><path clip-path=\"url(#clip930)\" d=\"M1169.59 1511.14 L1193.7 1511.14 L1193.7 1514.34 L1169.59 1514.34 L1169.59 1511.14 Z\" fill=\"#000000\" fill-rule=\"evenodd\" fill-opacity=\"1\" /><path clip-path=\"url(#clip930)\" d=\"M1202.56 1521.62 L1208.77 1521.62 L1208.77 1500.19 L1202.01 1501.55 L1202.01 1498.09 L1208.73 1496.73 L1212.53 1496.73 L1212.53 1521.62 L1218.73 1521.62 L1218.73 1524.81 L1202.56 1524.81 L1202.56 1521.62 Z\" fill=\"#000000\" fill-rule=\"evenodd\" fill-opacity=\"1\" /><path clip-path=\"url(#clip930)\" d=\"M1234.53 1499.24 Q1231.6 1499.24 1230.11 1502.13 Q1228.65 1505.01 1228.65 1510.8 Q1228.65 1516.58 1230.11 1519.47 Q1231.6 1522.35 1234.53 1522.35 Q1237.49 1522.35 1238.95 1519.47 Q1240.44 1516.58 1240.44 1510.8 Q1240.44 1505.01 1238.95 1502.13 Q1237.49 1499.24 1234.53 1499.24 M1234.53 1496.23 Q1239.25 1496.23 1241.74 1499.97 Q1244.24 1503.69 1244.24 1510.8 Q1244.24 1517.89 1241.74 1521.64 Q1239.25 1525.36 1234.53 1525.36 Q1229.81 1525.36 1227.31 1521.64 Q1224.83 1517.89 1224.83 1510.8 Q1224.83 1503.69 1227.31 1499.97 Q1229.81 1496.23 1234.53 1496.23 Z\" fill=\"#000000\" fill-rule=\"evenodd\" fill-opacity=\"1\" /><path clip-path=\"url(#clip930)\" d=\"M2257.51 1548.29 L2265.15 1548.29 L2265.15 1521.92 L2256.84 1523.59 L2256.84 1519.33 L2265.1 1517.66 L2269.78 1517.66 L2269.78 1548.29 L2277.41 1548.29 L2277.41 1552.22 L2257.51 1552.22 L2257.51 1548.29 Z\" fill=\"#000000\" fill-rule=\"evenodd\" fill-opacity=\"1\" /><path clip-path=\"url(#clip930)\" d=\"M2296.86 1520.74 Q2293.25 1520.74 2291.42 1524.31 Q2289.61 1527.85 2289.61 1534.98 Q2289.61 1542.09 2291.42 1545.65 Q2293.25 1549.19 2296.86 1549.19 Q2300.49 1549.19 2302.3 1545.65 Q2304.13 1542.09 2304.13 1534.98 Q2304.13 1527.85 2302.3 1524.31 Q2300.49 1520.74 2296.86 1520.74 M2296.86 1517.04 Q2302.67 1517.04 2305.72 1521.65 Q2308.8 1526.23 2308.8 1534.98 Q2308.8 1543.71 2305.72 1548.31 Q2302.67 1552.9 2296.86 1552.9 Q2291.05 1552.9 2287.97 1548.31 Q2284.91 1543.71 2284.91 1534.98 Q2284.91 1526.23 2287.97 1521.65 Q2291.05 1517.04 2296.86 1517.04 Z\" fill=\"#000000\" fill-rule=\"evenodd\" fill-opacity=\"1\" /><path clip-path=\"url(#clip930)\" d=\"M2318.51 1499.24 Q2315.57 1499.24 2314.09 1502.13 Q2312.62 1505.01 2312.62 1510.8 Q2312.62 1516.58 2314.09 1519.47 Q2315.57 1522.35 2318.51 1522.35 Q2321.46 1522.35 2322.93 1519.47 Q2324.41 1516.58 2324.41 1510.8 Q2324.41 1505.01 2322.93 1502.13 Q2321.46 1499.24 2318.51 1499.24 M2318.51 1496.23 Q2323.23 1496.23 2325.71 1499.97 Q2328.21 1503.69 2328.21 1510.8 Q2328.21 1517.89 2325.71 1521.64 Q2323.23 1525.36 2318.51 1525.36 Q2313.79 1525.36 2311.29 1521.64 Q2308.8 1517.89 2308.8 1510.8 Q2308.8 1503.69 2311.29 1499.97 Q2313.79 1496.23 2318.51 1496.23 Z\" fill=\"#000000\" fill-rule=\"evenodd\" fill-opacity=\"1\" /><polyline clip-path=\"url(#clip932)\" style=\"stroke:#000000; stroke-linecap:butt; stroke-linejoin:round; stroke-width:2; stroke-opacity:0.1; fill:none\" points=\"\n  224.554,981.992 2352.76,981.992 \n  \"/>\n<polyline clip-path=\"url(#clip932)\" style=\"stroke:#000000; stroke-linecap:butt; stroke-linejoin:round; stroke-width:2; stroke-opacity:0.1; fill:none\" points=\"\n  224.554,87.6286 2352.76,87.6286 \n  \"/>\n<polyline clip-path=\"url(#clip930)\" style=\"stroke:#000000; stroke-linecap:butt; stroke-linejoin:round; stroke-width:4; stroke-opacity:1; fill:none\" points=\"\n  224.554,1474.16 224.554,47.2441 \n  \"/>\n<polyline clip-path=\"url(#clip930)\" style=\"stroke:#000000; stroke-linecap:butt; stroke-linejoin:round; stroke-width:4; stroke-opacity:1; fill:none\" points=\"\n  224.554,981.992 243.451,981.992 \n  \"/>\n<polyline clip-path=\"url(#clip930)\" style=\"stroke:#000000; stroke-linecap:butt; stroke-linejoin:round; stroke-width:4; stroke-opacity:1; fill:none\" points=\"\n  224.554,87.6286 243.451,87.6286 \n  \"/>\n<path clip-path=\"url(#clip930)\" d=\"M51.6634 1001.78 L59.3023 1001.78 L59.3023 975.419 L50.9921 977.086 L50.9921 972.827 L59.256 971.16 L63.9319 971.16 L63.9319 1001.78 L71.5707 1001.78 L71.5707 1005.72 L51.6634 1005.72 L51.6634 1001.78 Z\" fill=\"#000000\" fill-rule=\"evenodd\" fill-opacity=\"1\" /><path clip-path=\"url(#clip930)\" d=\"M91.0151 974.239 Q87.404 974.239 85.5753 977.803 Q83.7697 981.345 83.7697 988.475 Q83.7697 995.581 85.5753 999.146 Q87.404 1002.69 91.0151 1002.69 Q94.6493 1002.69 96.4548 999.146 Q98.2835 995.581 98.2835 988.475 Q98.2835 981.345 96.4548 977.803 Q94.6493 974.239 91.0151 974.239 M91.0151 970.535 Q96.8252 970.535 99.8808 975.141 Q102.959 979.725 102.959 988.475 Q102.959 997.201 99.8808 1001.81 Q96.8252 1006.39 91.0151 1006.39 Q85.2049 1006.39 82.1262 1001.81 Q79.0707 997.201 79.0707 988.475 Q79.0707 979.725 82.1262 975.141 Q85.2049 970.535 91.0151 970.535 Z\" fill=\"#000000\" fill-rule=\"evenodd\" fill-opacity=\"1\" /><path clip-path=\"url(#clip930)\" d=\"M102.959 964.636 L127.071 964.636 L127.071 967.834 L102.959 967.834 L102.959 964.636 Z\" fill=\"#000000\" fill-rule=\"evenodd\" fill-opacity=\"1\" /><path clip-path=\"url(#clip930)\" d=\"M143.396 952.731 Q140.462 952.731 138.976 955.627 Q137.509 958.505 137.509 964.298 Q137.509 970.072 138.976 972.968 Q140.462 975.846 143.396 975.846 Q146.349 975.846 147.816 972.968 Q149.302 970.072 149.302 964.298 Q149.302 958.505 147.816 955.627 Q146.349 952.731 143.396 952.731 M143.396 949.722 Q148.117 949.722 150.6 953.464 Q153.101 957.188 153.101 964.298 Q153.101 971.388 150.6 975.131 Q148.117 978.855 143.396 978.855 Q138.675 978.855 136.174 975.131 Q133.691 971.388 133.691 964.298 Q133.691 957.188 136.174 953.464 Q138.675 949.722 143.396 949.722 Z\" fill=\"#000000\" fill-rule=\"evenodd\" fill-opacity=\"1\" /><path clip-path=\"url(#clip930)\" d=\"M159.778 973.532 L163.746 973.532 L163.746 978.31 L159.778 978.31 L159.778 973.532 Z\" fill=\"#000000\" fill-rule=\"evenodd\" fill-opacity=\"1\" /><path clip-path=\"url(#clip930)\" d=\"M175.294 975.112 L188.554 975.112 L188.554 978.31 L170.724 978.31 L170.724 975.112 Q172.887 972.874 176.611 969.113 Q180.353 965.332 181.313 964.241 Q183.137 962.191 183.852 960.781 Q184.585 959.351 184.585 957.978 Q184.585 955.74 183.005 954.33 Q181.444 952.919 178.924 952.919 Q177.137 952.919 175.144 953.54 Q173.169 954.16 170.912 955.42 L170.912 951.584 Q173.206 950.662 175.2 950.192 Q177.194 949.722 178.849 949.722 Q183.212 949.722 185.808 951.903 Q188.403 954.085 188.403 957.734 Q188.403 959.464 187.745 961.025 Q187.105 962.567 185.394 964.674 Q184.924 965.219 182.403 967.834 Q179.883 970.429 175.294 975.112 Z\" fill=\"#000000\" fill-rule=\"evenodd\" fill-opacity=\"1\" /><path clip-path=\"url(#clip930)\" d=\"M81.0976 107.421 L88.7364 107.421 L88.7364 81.0555 L80.4263 82.7221 L80.4263 78.4629 L88.6901 76.7962 L93.366 76.7962 L93.366 107.421 L101.005 107.421 L101.005 111.356 L81.0976 111.356 L81.0976 107.421 Z\" fill=\"#000000\" fill-rule=\"evenodd\" fill-opacity=\"1\" /><path clip-path=\"url(#clip930)\" d=\"M120.449 79.8749 Q116.838 79.8749 115.009 83.4397 Q113.204 86.9814 113.204 94.111 Q113.204 101.217 115.009 104.782 Q116.838 108.324 120.449 108.324 Q124.083 108.324 125.889 104.782 Q127.718 101.217 127.718 94.111 Q127.718 86.9814 125.889 83.4397 Q124.083 79.8749 120.449 79.8749 M120.449 76.1712 Q126.259 76.1712 129.315 80.7777 Q132.394 85.361 132.394 94.111 Q132.394 102.838 129.315 107.444 Q126.259 112.028 120.449 112.028 Q114.639 112.028 111.56 107.444 Q108.505 102.838 108.505 94.111 Q108.505 85.361 111.56 80.7777 Q114.639 76.1712 120.449 76.1712 Z\" fill=\"#000000\" fill-rule=\"evenodd\" fill-opacity=\"1\" /><path clip-path=\"url(#clip930)\" d=\"M142.098 58.3673 Q139.164 58.3673 137.679 61.2637 Q136.212 64.1413 136.212 69.9341 Q136.212 75.708 137.679 78.6044 Q139.164 81.482 142.098 81.482 Q145.051 81.482 146.518 78.6044 Q148.004 75.708 148.004 69.9341 Q148.004 64.1413 146.518 61.2637 Q145.051 58.3673 142.098 58.3673 M142.098 55.358 Q146.819 55.358 149.302 59.1008 Q151.803 62.8247 151.803 69.9341 Q151.803 77.0246 149.302 80.7673 Q146.819 84.4913 142.098 84.4913 Q137.378 84.4913 134.876 80.7673 Q132.394 77.0246 132.394 69.9341 Q132.394 62.8247 134.876 59.1008 Q137.378 55.358 142.098 55.358 Z\" fill=\"#000000\" fill-rule=\"evenodd\" fill-opacity=\"1\" /><path clip-path=\"url(#clip930)\" d=\"M158.48 79.1687 L162.448 79.1687 L162.448 83.9458 L158.48 83.9458 L158.48 79.1687 Z\" fill=\"#000000\" fill-rule=\"evenodd\" fill-opacity=\"1\" /><path clip-path=\"url(#clip930)\" d=\"M178.849 58.3673 Q175.915 58.3673 174.429 61.2637 Q172.962 64.1413 172.962 69.9341 Q172.962 75.708 174.429 78.6044 Q175.915 81.482 178.849 81.482 Q181.802 81.482 183.269 78.6044 Q184.754 75.708 184.754 69.9341 Q184.754 64.1413 183.269 61.2637 Q181.802 58.3673 178.849 58.3673 M178.849 55.358 Q183.57 55.358 186.052 59.1008 Q188.554 62.8247 188.554 69.9341 Q188.554 77.0246 186.052 80.7673 Q183.57 84.4913 178.849 84.4913 Q174.128 84.4913 171.627 80.7673 Q169.144 77.0246 169.144 69.9341 Q169.144 62.8247 171.627 59.1008 Q174.128 55.358 178.849 55.358 Z\" fill=\"#000000\" fill-rule=\"evenodd\" fill-opacity=\"1\" /><polyline clip-path=\"url(#clip932)\" style=\"stroke:#009af9; stroke-linecap:butt; stroke-linejoin:round; stroke-width:4; stroke-opacity:1; fill:none\" points=\"\n  519.022,1433.78 485.56,87.6286 452.097,87.6286 418.635,87.6286 385.173,87.6286 351.71,87.6286 318.248,87.6286 284.786,87.6286 \n  \"/>\n<path clip-path=\"url(#clip930)\" d=\"\nM2028.84 198.488 L2281.82 198.488 L2281.82 94.8081 L2028.84 94.8081  Z\n  \" fill=\"#ffffff\" fill-rule=\"evenodd\" fill-opacity=\"1\"/>\n<polyline clip-path=\"url(#clip930)\" style=\"stroke:#000000; stroke-linecap:butt; stroke-linejoin:round; stroke-width:4; stroke-opacity:1; fill:none\" points=\"\n  2028.84,198.488 2281.82,198.488 2281.82,94.8081 2028.84,94.8081 2028.84,198.488 \n  \"/>\n<polyline clip-path=\"url(#clip930)\" style=\"stroke:#009af9; stroke-linecap:butt; stroke-linejoin:round; stroke-width:4; stroke-opacity:1; fill:none\" points=\"\n  2052.49,146.648 2194.37,146.648 \n  \"/>\n<path clip-path=\"url(#clip930)\" d=\"M2234.52 127.91 L2234.52 131.451 L2230.45 131.451 Q2228.16 131.451 2227.25 132.377 Q2226.37 133.303 2226.37 135.711 L2226.37 138.002 L2233.39 138.002 L2233.39 141.312 L2226.37 141.312 L2226.37 163.928 L2222.09 163.928 L2222.09 141.312 L2218.02 141.312 L2218.02 138.002 L2222.09 138.002 L2222.09 136.197 Q2222.09 131.868 2224.11 129.901 Q2226.12 127.91 2230.49 127.91 L2234.52 127.91 Z\" fill=\"#000000\" fill-rule=\"evenodd\" fill-opacity=\"1\" /></svg>\n"
     },
     "execution_count": 13,
     "metadata": {},
     "output_type": "execute_result"
    }
   ],
   "source": [
    "using Plots\n",
    "f = x -> 1 + x + x^2 #define using . to avoid having to braodcast later\n",
    "g = x -> 1 + x/3 + x^2\n",
    "h = 2.0 .^ (0:-1:-60)\n",
    "#h = 10.0 .^ (0:-1:-16)\n",
    "nanabs = x -> iszero(x) ? NaN : abs(x)\n",
    "plot(h,nanabs.((f.(h) .- f.(-h)) ./ 2h .- 1); yscale=:log10,xscale=:log10, label = \"f\")\n",
    "#plot!(nanabs.((g.(h) .- g.(-h)) ./ 2h .- 1/3); yscale=:log10, label = \"g\")\n",
    "\n",
    "#use scatter plots"
   ]
  },
  {
   "cell_type": "code",
   "execution_count": 4,
   "metadata": {},
   "outputs": [
    {
     "data": {
      "text/plain": [
       "1.5811387114226818"
      ]
     },
     "execution_count": 4,
     "metadata": {},
     "output_type": "execute_result"
    }
   ],
   "source": [
    "function a1(x)\n",
    "    exp(exp(x)cos(x)+sin(x))\n",
    "end\n",
    "\n",
    "function a2(x)\n",
    "    ret = x - 1\n",
    "    for k = 2:1000\n",
    "        ret = ret*(x/k - 1)\n",
    "    end\n",
    "    ret\n",
    "end\n",
    "\n",
    "#or: prod(x ./(1:1000) .- 1)\n",
    "\n",
    "function a3(x,s=1000)\n",
    "    if s == 1\n",
    "        1 + (x - 1)/2\n",
    "    else\n",
    "        1 + (x - 1)/(1 + a3(x,s-1))\n",
    "    end\n",
    "end\n",
    "\n",
    "function finite_diff(f,x,h)\n",
    "    (f(x+h) - f(x))/h\n",
    "end\n",
    "\n",
    "function central_diff(f,x,h)\n",
    "    (f(x+h) - f(x-h))/2*h\n",
    "end\n",
    "\n",
    "function finite_diff_2(f,x,h)\n",
    "    (f(x+h) - 2*f(x) + f(x-h))/h^2\n",
    "end\n",
    "\n",
    "finite_diff(a1,0.1,2^-25) #accurate to 5d.p. to Dual calculation\n",
    "finite_diff(a2,0.1,2^-25) #accurate to 5d.p. to Dual calculation\n",
    "finite_diff(a3,0.1,2^-25)\n",
    "\n",
    "# choose h = sqrt(machine epsilon), which is eps()"
   ]
  },
  {
   "cell_type": "markdown",
   "metadata": {},
   "source": [
    "## 2. Dual numbers\n",
    "\n",
    "**Problem 2.1⋆** \n",
    "Show that dual numbers $𝔻$ are a _commutative ring_, that is, for all $a,b,c ∈ 𝔻$ the following are satisfied:\n",
    "1. _additive associativity_: $(a + b) + c = a + (b + c)$\n",
    "2. _additive commutativity_: $a + b = b + a$\n",
    "3. _additive identity_: There exists $0 ∈ 𝔻$ such that $a + 0 = a$.\n",
    "4. _additive inverse_: There exists $-a$ such that $(-a) + a = 0$.\n",
    "5. _multiplicative associativity_: $(ab)c = a(bc)$\n",
    "6. _multiplictive commutativity_: $ab = ba$\n",
    "7. _multiplictive identity_: There exists $1 ∈ 𝔻$ such that $1a= a$.\n",
    "8. _distributive_: $a(b+c) = ab + ac$\n",
    "\n",
    "**Problem 2.2⋆** A _field_ is a commutative ring such that $0 ≠ 1$ and all nonzero elements have a multiplicative inverse, i.e.,\n",
    "there exists $a^{-1}$ such that $a a^{-1} = 1$. Why isn't $𝔻$ a field?\n",
    "\n",
    "**Problem 2.3⋆** A _matrix representation_ of a ring are maps from a group/ring to matrices such that matrix addition and multiplication\n",
    "behave exactly like addition and multiplication that of the ring. \n",
    "That is, if $A$ and $B$ are elements of the ring and $ρ$ is a representation, then\n",
    "$$\n",
    "ρ(A + B) = ρ(A) + ρ(B) \\hbox{ and } ρ(AB) = ρ(A)ρ(B).\n",
    "$$\n",
    "Show that the following are matrix representations of complex numbers and\n",
    "dual numbers (respectively):\n",
    "$$\n",
    "\\begin{align*}\n",
    "a + b {\\rm i} &\\mapsto \\begin{pmatrix} a & b \\\\ -b & a \\end{pmatrix} \\\\\n",
    "a + b {\\rm i} &\\mapsto \\begin{pmatrix} a & b \\\\ 0 & a \\end{pmatrix}\n",
    "\\end{align*}\n",
    "$$\n",
    "\n",
    "\n",
    "**Problem 2.4⋆** What is the correct definition of division on dual numbers, i.e.,\n",
    "$$\n",
    "(a + b \\epsilon )/(c + d \\epsilon ) = s + t \\epsilon\n",
    "$$\n",
    "for what choice of $s$ and $t$? Use dual numbers to compute the derivative of the following functions at $x = 0.1$:\n",
    "$$\n",
    "\\exp(\\exp x \\cos x + \\sin x), \\prod_{k=1}^3 \\left({x \\over k}-1\\right),\\hbox{ and } f^{\\rm s}_2(x) = {1 + {x - 1 \\over 2 + {x-1 \\over 2}}}\n",
    "$$\n",
    "\n",
    "\n",
    "**Problem 2.5** Add support for `cos`, `sin`, and `/` to the type `Dual`:"
   ]
  },
  {
   "cell_type": "code",
   "execution_count": 6,
   "metadata": {
    "execution": {
     "iopub.execute_input": "2022-01-19T20:07:29.272650Z",
     "iopub.status.busy": "2022-01-19T20:07:29.272069Z",
     "iopub.status.idle": "2022-01-19T20:07:29.578514Z",
     "shell.execute_reply": "2022-01-19T20:07:29.577878Z"
    }
   },
   "outputs": [
    {
     "data": {
      "text/plain": [
       "/ (generic function with 136 methods)"
      ]
     },
     "execution_count": 6,
     "metadata": {},
     "output_type": "execute_result"
    }
   ],
   "source": [
    "# Dual(a,b) represents a + b*ϵ\n",
    "struct Dual{T}\n",
    "    a::T\n",
    "    b::T\n",
    "end\n",
    "\n",
    "# Dual(a) represents a + 0*ϵ\n",
    "Dual(a::Real) = Dual(a, zero(a)) # for real numbers we use a + 0ϵ\n",
    "\n",
    "# Allow for a + b*ϵ syntax\n",
    "const ϵ = Dual(0, 1)\n",
    "\n",
    "import Base: +, *, -, /, ^, zero, exp, cos, sin\n",
    "\n",
    "# support polynomials like 1 + x, x - 1, 2x or x*2 by reducing to Dual\n",
    "+(x::Real, y::Dual) = Dual(x) + y\n",
    "+(x::Dual, y::Real) = x + Dual(y)\n",
    "-(x::Real, y::Dual) = Dual(x) - y\n",
    "-(x::Dual, y::Real) = x - Dual(y)\n",
    "*(x::Real, y::Dual) = Dual(x) * y\n",
    "*(x::Dual, y::Real) = x * Dual(y)\n",
    "\n",
    "# support x/2 (but not yet division of duals)\n",
    "/(x::Dual, k::Real) = Dual(x.a/k, x.b/k)\n",
    "\n",
    "# a simple recursive function to support x^2, x^3, etc.\n",
    "function ^(x::Dual, k::Integer)\n",
    "    if k < 0\n",
    "        error(\"Not implemented\")\n",
    "    elseif k == 1\n",
    "        x\n",
    "    else\n",
    "        x^(k-1) * x\n",
    "    end\n",
    "end\n",
    "\n",
    "# Algebraic operationds for duals\n",
    "-(x::Dual) = Dual(-x.a, -x.b)\n",
    "+(x::Dual, y::Dual) = Dual(x.a + y.a, x.b + y.b)\n",
    "-(x::Dual, y::Dual) = Dual(x.a - y.a, x.b - y.b)\n",
    "*(x::Dual, y::Dual) = Dual(x.a*y.a, x.a*y.b + x.b*y.a)\n",
    "\n",
    "exp(x::Dual) = Dual(exp(x.a), exp(x.a) * x.b)\n",
    "\n",
    "function cos(x::Dual)\n",
    "    # TODO: implement cos for Duals\n",
    "    Dual(cos(x.a), -x.b*sin(x.a))\n",
    "end\n",
    "\n",
    "function sin(x::Dual)\n",
    "    # TODO: implement sin for Duals\n",
    "    Dual(sin(x.a), x.b*cos(x.a))\n",
    "end\n",
    "\n",
    "function /(x::Dual, y::Dual)\n",
    "    # TODO: implement division for Duals\n",
    "    Dual(x.a/y.a, 1/x.a^2 * (x.b*y.a - x.a*y.b))\n",
    "end"
   ]
  },
  {
   "cell_type": "markdown",
   "metadata": {},
   "source": [
    "**Problem 2.6** Use dual numbers to compute the derivatives to\n",
    "$$\n",
    "\\exp(\\exp x \\cos x + \\sin x), \\prod_{k=1}^{1000} \\left({x \\over k}-1\\right), \\hbox{ and } f^{\\rm s}_{1000}(x).\n",
    "$$\n",
    "Does your answer match (to 5 digits) Problem 1.4?"
   ]
  },
  {
   "cell_type": "code",
   "execution_count": 7,
   "metadata": {},
   "outputs": [
    {
     "name": "stdout",
     "output_type": "stream",
     "text": [
      "Dual{Float64}(3.3184011429340323, 6.5847725546108276)\n",
      "Dual{Float64}(0.4689792466949583, -3.593826513101571)\n",
      "Dual{Float64}(0.316227766016838, 8.017049285053784e46)\n"
     ]
    }
   ],
   "source": [
    "function f1(x::Dual)\n",
    "    exp(exp(x)cos(x)+sin(x))\n",
    "end\n",
    "\n",
    "println(f1(Dual(1/10,1.0)))\n",
    "\n",
    "function f2(x::Dual)\n",
    "    ret = x - 1\n",
    "    for k = 2:1000\n",
    "        ret = ret*(x/k - 1)\n",
    "    end\n",
    "    ret\n",
    "end\n",
    "\n",
    "println(f2(Dual(1/10,1.0)))\n",
    "\n",
    "function f3(x::Dual,s::Real)\n",
    "    if s == 1\n",
    "        1 + (x - 1)/2\n",
    "    else\n",
    "        1 + (x - 1)/(1 + f3(x,s-1))\n",
    "    end\n",
    "end\n",
    "\n",
    "println(f3(Dual(1/10,1.0),1000))"
   ]
  },
  {
   "cell_type": "markdown",
   "metadata": {},
   "source": [
    "## 3. Newton iteration\n",
    "\n",
    "Newton iteration is an algorithm for computed roots of a function $f$ using its derivative: given an initial guess $x_0$, one\n",
    "obtains a sequence of guesses via\n",
    "$$\n",
    "x_{k+1} = x_k - {f(x_k) \\over f'(x_k)}\n",
    "$$\n",
    "\n",
    "**Problem 3.1** Use `Dual` to implement the following function which returns $x_n$:"
   ]
  },
  {
   "cell_type": "code",
   "execution_count": 10,
   "metadata": {
    "execution": {
     "iopub.execute_input": "2022-01-19T20:07:29.580681Z",
     "iopub.status.busy": "2022-01-19T20:07:29.580114Z",
     "iopub.status.idle": "2022-01-19T20:07:29.686903Z",
     "shell.execute_reply": "2022-01-19T20:07:29.686205Z"
    }
   },
   "outputs": [
    {
     "data": {
      "text/plain": [
       "1.7320508075688772"
      ]
     },
     "execution_count": 10,
     "metadata": {},
     "output_type": "execute_result"
    }
   ],
   "source": [
    "function newton(f, x0, n)\n",
    "    ## TODO: compute x_n \n",
    "    x = Dual(Float64(x0),1.0)\n",
    "    for i = 1:n\n",
    "        x = Dual(x.a - f(x).a / f(x).b, 1.0)\n",
    "    end\n",
    "    x.a\n",
    "end\n",
    "\n",
    "function testing(x::Dual)\n",
    "    x^2 - 3\n",
    "end\n",
    "\n",
    "newton(testing,1,5)"
   ]
  },
  {
   "cell_type": "markdown",
   "metadata": {},
   "source": [
    "**Problem 3.2** Compute points $y$ such that $|f(y)| \\leq 10^{-13}$ (i.e., approximate roots):\n",
    "$$\n",
    "\\exp(\\exp x \\cos x + \\sin x)-6\\hbox{ and } \\prod_{k=1}^{1000} \\left({x \\over k}-1\\right) - {1 \\over 2}\n",
    "$$\n",
    "(Hint: you may need to try different `x0` and `n` to get convergence. Plotting the function should give an\n",
    "indication of a good initial guess.)\n",
    "\n",
    "**Problem 3.3** Compute points $y$ such that $|f^{\\rm s}_{1000}(y) - j| \\leq 10^{-13}$ for $j = 1,2,3$. \n",
    "Make a conjecture of what $f^{\\rm s}_n(x)$ converges to as $n → ∞$. (Bonus problem: Prove your conjecture.)"
   ]
  },
  {
   "cell_type": "code",
   "execution_count": 14,
   "metadata": {},
   "outputs": [
    {
     "data": {
      "text/plain": [
       "4.577836988737406"
      ]
     },
     "execution_count": 14,
     "metadata": {},
     "output_type": "execute_result"
    }
   ],
   "source": [
    "f = x -> exp(exp(x)*cos(x)+sin(x)) - 6\n",
    "plot(f,-2,2)\n",
    "\n",
    "function approx(f,x0)\n",
    "    y = x0\n",
    "    while abs(f(y)) > 10^-13\n",
    "        y = newton(f,y,10)\n",
    "    end\n",
    "    y\n",
    "end\n",
    "\n",
    "y = newton(f,1,12)\n",
    "abs(f(y))"
   ]
  },
  {
   "cell_type": "code",
   "execution_count": 22,
   "metadata": {},
   "outputs": [
    {
     "data": {
      "text/plain": [
       "0.6303767326657339"
      ]
     },
     "execution_count": 22,
     "metadata": {},
     "output_type": "execute_result"
    }
   ],
   "source": [
    "function g2(x::Dual)\n",
    "    ret = x - 1\n",
    "    for k =2:1000\n",
    "        ret = ret*(x/k -1)\n",
    "    end\n",
    "    ret - 1/2\n",
    "end\n",
    "\n",
    "y = newton(x -> g2(x) + 1, 0.1, 1)\n",
    "abs(y - 1)\n"
   ]
  },
  {
   "cell_type": "code",
   "execution_count": null,
   "metadata": {},
   "outputs": [],
   "source": []
  }
 ],
 "metadata": {
  "kernelspec": {
   "display_name": "Julia 1.7.1",
   "language": "julia",
   "name": "julia-1.7"
  },
  "language_info": {
   "file_extension": ".jl",
   "mimetype": "application/julia",
   "name": "julia",
   "version": "1.7.1"
  }
 },
 "nbformat": 4,
 "nbformat_minor": 2
}
